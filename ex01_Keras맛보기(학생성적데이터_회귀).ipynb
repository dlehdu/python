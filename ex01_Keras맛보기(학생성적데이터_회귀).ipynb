{
  "nbformat": 4,
  "nbformat_minor": 0,
  "metadata": {
    "colab": {
      "provenance": [],
      "mount_file_id": "1RK_FzNvYlGqZVu0WOqM_j5o-jt3zIAJJ",
      "authorship_tag": "ABX9TyNJuhQi1Q0Bd5qjZYf7nDRP",
      "include_colab_link": true
    },
    "kernelspec": {
      "name": "python3",
      "display_name": "Python 3"
    },
    "language_info": {
      "name": "python"
    }
  },
  "cells": [
    {
      "cell_type": "markdown",
      "metadata": {
        "id": "view-in-github",
        "colab_type": "text"
      },
      "source": [
        "<a href=\"https://colab.research.google.com/github/didlaak/python/blob/main/ex01_Keras%EB%A7%9B%EB%B3%B4%EA%B8%B0(%ED%95%99%EC%83%9D%EC%84%B1%EC%A0%81%EB%8D%B0%EC%9D%B4%ED%84%B0_%ED%9A%8C%EA%B7%80).ipynb\" target=\"_parent\"><img src=\"https://colab.research.google.com/assets/colab-badge.svg\" alt=\"Open In Colab\"/></a>"
      ]
    },
    {
      "cell_type": "code",
      "execution_count": null,
      "metadata": {
        "id": "D99jljiCiTw8"
      },
      "outputs": [],
      "source": []
    },
    {
      "cell_type": "markdown",
      "source": [
        "### 오늘의 목표\n",
        "- 학생 성적 데이터를 인공신경망 모델로\n",
        "학습시켜보자!\n",
        "- keras 활용법 숙지"
      ],
      "metadata": {
        "id": "vUI-nh9cq2Va"
      }
    },
    {
      "cell_type": "code",
      "source": [
        "!ls # 현재 작업 폴더의 내부(폴더, 파일) 살펴보기"
      ],
      "metadata": {
        "colab": {
          "base_uri": "https://localhost:8080/"
        },
        "id": "Isp6BV4xrEVk",
        "outputId": "339bfc99-4320-4ebc-d72f-a0a1f72982e0"
      },
      "execution_count": null,
      "outputs": [
        {
          "output_type": "stream",
          "name": "stdout",
          "text": [
            "drive  sample_data\n"
          ]
        }
      ]
    },
    {
      "cell_type": "code",
      "source": [
        "!pwd # 현재 작업폴더 경로 확인"
      ],
      "metadata": {
        "colab": {
          "base_uri": "https://localhost:8080/"
        },
        "id": "nRScur1GrJVM",
        "outputId": "5db2cacd-f681-4fa0-c48e-1632edd444a6"
      },
      "execution_count": null,
      "outputs": [
        {
          "output_type": "stream",
          "name": "stdout",
          "text": [
            "/content\n"
          ]
        }
      ]
    },
    {
      "cell_type": "code",
      "source": [
        "%cd /content/drive/MyDrive/Colab Notebooks"
      ],
      "metadata": {
        "colab": {
          "base_uri": "https://localhost:8080/"
        },
        "id": "dAfZ1LR1sICY",
        "outputId": "76eda84e-6170-4a07-c1cb-ce90494796d9"
      },
      "execution_count": null,
      "outputs": [
        {
          "output_type": "stream",
          "name": "stdout",
          "text": [
            "/content/drive/MyDrive/Colab Notebooks\n"
          ]
        }
      ]
    },
    {
      "cell_type": "code",
      "source": [
        "!ls"
      ],
      "metadata": {
        "colab": {
          "base_uri": "https://localhost:8080/"
        },
        "id": "Wovl9RvdsptH",
        "outputId": "723808b2-0f82-481f-c419-c38c781d9414"
      },
      "execution_count": null,
      "outputs": [
        {
          "output_type": "stream",
          "name": "stdout",
          "text": [
            " data  'ex01.Keras맛보기(학생성적데이터_회귀).ipynb'\n"
          ]
        }
      ]
    },
    {
      "cell_type": "code",
      "source": [
        "!pwd"
      ],
      "metadata": {
        "colab": {
          "base_uri": "https://localhost:8080/"
        },
        "id": "_oR1atUTt3SX",
        "outputId": "8d77fab6-bb77-4cff-dead-beeeea740063"
      },
      "execution_count": null,
      "outputs": [
        {
          "output_type": "stream",
          "name": "stdout",
          "text": [
            "/content/drive/MyDrive/Colab Notebooks\n"
          ]
        }
      ]
    },
    {
      "cell_type": "markdown",
      "source": [
        "데이터로딩"
      ],
      "metadata": {
        "id": "AphpwfvQuJQB"
      }
    },
    {
      "cell_type": "code",
      "source": [
        "import pandas as pd"
      ],
      "metadata": {
        "id": "g6vnT2Zyt90t"
      },
      "execution_count": null,
      "outputs": []
    },
    {
      "cell_type": "code",
      "source": [
        "# 구분자 - 데이터가 ; 로 저장되어 있음\n",
        "studentData=pd.read_csv('./data/student-mat.csv', delimiter=\";\")"
      ],
      "metadata": {
        "id": "GBRf_NMOuKc2"
      },
      "execution_count": null,
      "outputs": []
    },
    {
      "cell_type": "code",
      "source": [
        "studentData.head()"
      ],
      "metadata": {
        "colab": {
          "base_uri": "https://localhost:8080/",
          "height": 300
        },
        "id": "vVL7UuRCucWg",
        "outputId": "02113b83-3aa4-4212-add3-40f1ca0ea561"
      },
      "execution_count": null,
      "outputs": [
        {
          "output_type": "execute_result",
          "data": {
            "text/plain": [
              "  school sex  age address famsize Pstatus  Medu  Fedu     Mjob      Fjob  ...  \\\n",
              "0     GP   F   18       U     GT3       A     4     4  at_home   teacher  ...   \n",
              "1     GP   F   17       U     GT3       T     1     1  at_home     other  ...   \n",
              "2     GP   F   15       U     LE3       T     1     1  at_home     other  ...   \n",
              "3     GP   F   15       U     GT3       T     4     2   health  services  ...   \n",
              "4     GP   F   16       U     GT3       T     3     3    other     other  ...   \n",
              "\n",
              "  famrel freetime  goout  Dalc  Walc health absences  G1  G2  G3  \n",
              "0      4        3      4     1     1      3        6   5   6   6  \n",
              "1      5        3      3     1     1      3        4   5   5   6  \n",
              "2      4        3      2     2     3      3       10   7   8  10  \n",
              "3      3        2      2     1     1      5        2  15  14  15  \n",
              "4      4        3      2     1     2      5        4   6  10  10  \n",
              "\n",
              "[5 rows x 33 columns]"
            ],
            "text/html": [
              "\n",
              "  <div id=\"df-79c26f05-e5f0-45fa-ac44-e1126132e92a\">\n",
              "    <div class=\"colab-df-container\">\n",
              "      <div>\n",
              "<style scoped>\n",
              "    .dataframe tbody tr th:only-of-type {\n",
              "        vertical-align: middle;\n",
              "    }\n",
              "\n",
              "    .dataframe tbody tr th {\n",
              "        vertical-align: top;\n",
              "    }\n",
              "\n",
              "    .dataframe thead th {\n",
              "        text-align: right;\n",
              "    }\n",
              "</style>\n",
              "<table border=\"1\" class=\"dataframe\">\n",
              "  <thead>\n",
              "    <tr style=\"text-align: right;\">\n",
              "      <th></th>\n",
              "      <th>school</th>\n",
              "      <th>sex</th>\n",
              "      <th>age</th>\n",
              "      <th>address</th>\n",
              "      <th>famsize</th>\n",
              "      <th>Pstatus</th>\n",
              "      <th>Medu</th>\n",
              "      <th>Fedu</th>\n",
              "      <th>Mjob</th>\n",
              "      <th>Fjob</th>\n",
              "      <th>...</th>\n",
              "      <th>famrel</th>\n",
              "      <th>freetime</th>\n",
              "      <th>goout</th>\n",
              "      <th>Dalc</th>\n",
              "      <th>Walc</th>\n",
              "      <th>health</th>\n",
              "      <th>absences</th>\n",
              "      <th>G1</th>\n",
              "      <th>G2</th>\n",
              "      <th>G3</th>\n",
              "    </tr>\n",
              "  </thead>\n",
              "  <tbody>\n",
              "    <tr>\n",
              "      <th>0</th>\n",
              "      <td>GP</td>\n",
              "      <td>F</td>\n",
              "      <td>18</td>\n",
              "      <td>U</td>\n",
              "      <td>GT3</td>\n",
              "      <td>A</td>\n",
              "      <td>4</td>\n",
              "      <td>4</td>\n",
              "      <td>at_home</td>\n",
              "      <td>teacher</td>\n",
              "      <td>...</td>\n",
              "      <td>4</td>\n",
              "      <td>3</td>\n",
              "      <td>4</td>\n",
              "      <td>1</td>\n",
              "      <td>1</td>\n",
              "      <td>3</td>\n",
              "      <td>6</td>\n",
              "      <td>5</td>\n",
              "      <td>6</td>\n",
              "      <td>6</td>\n",
              "    </tr>\n",
              "    <tr>\n",
              "      <th>1</th>\n",
              "      <td>GP</td>\n",
              "      <td>F</td>\n",
              "      <td>17</td>\n",
              "      <td>U</td>\n",
              "      <td>GT3</td>\n",
              "      <td>T</td>\n",
              "      <td>1</td>\n",
              "      <td>1</td>\n",
              "      <td>at_home</td>\n",
              "      <td>other</td>\n",
              "      <td>...</td>\n",
              "      <td>5</td>\n",
              "      <td>3</td>\n",
              "      <td>3</td>\n",
              "      <td>1</td>\n",
              "      <td>1</td>\n",
              "      <td>3</td>\n",
              "      <td>4</td>\n",
              "      <td>5</td>\n",
              "      <td>5</td>\n",
              "      <td>6</td>\n",
              "    </tr>\n",
              "    <tr>\n",
              "      <th>2</th>\n",
              "      <td>GP</td>\n",
              "      <td>F</td>\n",
              "      <td>15</td>\n",
              "      <td>U</td>\n",
              "      <td>LE3</td>\n",
              "      <td>T</td>\n",
              "      <td>1</td>\n",
              "      <td>1</td>\n",
              "      <td>at_home</td>\n",
              "      <td>other</td>\n",
              "      <td>...</td>\n",
              "      <td>4</td>\n",
              "      <td>3</td>\n",
              "      <td>2</td>\n",
              "      <td>2</td>\n",
              "      <td>3</td>\n",
              "      <td>3</td>\n",
              "      <td>10</td>\n",
              "      <td>7</td>\n",
              "      <td>8</td>\n",
              "      <td>10</td>\n",
              "    </tr>\n",
              "    <tr>\n",
              "      <th>3</th>\n",
              "      <td>GP</td>\n",
              "      <td>F</td>\n",
              "      <td>15</td>\n",
              "      <td>U</td>\n",
              "      <td>GT3</td>\n",
              "      <td>T</td>\n",
              "      <td>4</td>\n",
              "      <td>2</td>\n",
              "      <td>health</td>\n",
              "      <td>services</td>\n",
              "      <td>...</td>\n",
              "      <td>3</td>\n",
              "      <td>2</td>\n",
              "      <td>2</td>\n",
              "      <td>1</td>\n",
              "      <td>1</td>\n",
              "      <td>5</td>\n",
              "      <td>2</td>\n",
              "      <td>15</td>\n",
              "      <td>14</td>\n",
              "      <td>15</td>\n",
              "    </tr>\n",
              "    <tr>\n",
              "      <th>4</th>\n",
              "      <td>GP</td>\n",
              "      <td>F</td>\n",
              "      <td>16</td>\n",
              "      <td>U</td>\n",
              "      <td>GT3</td>\n",
              "      <td>T</td>\n",
              "      <td>3</td>\n",
              "      <td>3</td>\n",
              "      <td>other</td>\n",
              "      <td>other</td>\n",
              "      <td>...</td>\n",
              "      <td>4</td>\n",
              "      <td>3</td>\n",
              "      <td>2</td>\n",
              "      <td>1</td>\n",
              "      <td>2</td>\n",
              "      <td>5</td>\n",
              "      <td>4</td>\n",
              "      <td>6</td>\n",
              "      <td>10</td>\n",
              "      <td>10</td>\n",
              "    </tr>\n",
              "  </tbody>\n",
              "</table>\n",
              "<p>5 rows × 33 columns</p>\n",
              "</div>\n",
              "      <button class=\"colab-df-convert\" onclick=\"convertToInteractive('df-79c26f05-e5f0-45fa-ac44-e1126132e92a')\"\n",
              "              title=\"Convert this dataframe to an interactive table.\"\n",
              "              style=\"display:none;\">\n",
              "        \n",
              "  <svg xmlns=\"http://www.w3.org/2000/svg\" height=\"24px\"viewBox=\"0 0 24 24\"\n",
              "       width=\"24px\">\n",
              "    <path d=\"M0 0h24v24H0V0z\" fill=\"none\"/>\n",
              "    <path d=\"M18.56 5.44l.94 2.06.94-2.06 2.06-.94-2.06-.94-.94-2.06-.94 2.06-2.06.94zm-11 1L8.5 8.5l.94-2.06 2.06-.94-2.06-.94L8.5 2.5l-.94 2.06-2.06.94zm10 10l.94 2.06.94-2.06 2.06-.94-2.06-.94-.94-2.06-.94 2.06-2.06.94z\"/><path d=\"M17.41 7.96l-1.37-1.37c-.4-.4-.92-.59-1.43-.59-.52 0-1.04.2-1.43.59L10.3 9.45l-7.72 7.72c-.78.78-.78 2.05 0 2.83L4 21.41c.39.39.9.59 1.41.59.51 0 1.02-.2 1.41-.59l7.78-7.78 2.81-2.81c.8-.78.8-2.07 0-2.86zM5.41 20L4 18.59l7.72-7.72 1.47 1.35L5.41 20z\"/>\n",
              "  </svg>\n",
              "      </button>\n",
              "      \n",
              "  <style>\n",
              "    .colab-df-container {\n",
              "      display:flex;\n",
              "      flex-wrap:wrap;\n",
              "      gap: 12px;\n",
              "    }\n",
              "\n",
              "    .colab-df-convert {\n",
              "      background-color: #E8F0FE;\n",
              "      border: none;\n",
              "      border-radius: 50%;\n",
              "      cursor: pointer;\n",
              "      display: none;\n",
              "      fill: #1967D2;\n",
              "      height: 32px;\n",
              "      padding: 0 0 0 0;\n",
              "      width: 32px;\n",
              "    }\n",
              "\n",
              "    .colab-df-convert:hover {\n",
              "      background-color: #E2EBFA;\n",
              "      box-shadow: 0px 1px 2px rgba(60, 64, 67, 0.3), 0px 1px 3px 1px rgba(60, 64, 67, 0.15);\n",
              "      fill: #174EA6;\n",
              "    }\n",
              "\n",
              "    [theme=dark] .colab-df-convert {\n",
              "      background-color: #3B4455;\n",
              "      fill: #D2E3FC;\n",
              "    }\n",
              "\n",
              "    [theme=dark] .colab-df-convert:hover {\n",
              "      background-color: #434B5C;\n",
              "      box-shadow: 0px 1px 3px 1px rgba(0, 0, 0, 0.15);\n",
              "      filter: drop-shadow(0px 1px 2px rgba(0, 0, 0, 0.3));\n",
              "      fill: #FFFFFF;\n",
              "    }\n",
              "  </style>\n",
              "\n",
              "      <script>\n",
              "        const buttonEl =\n",
              "          document.querySelector('#df-79c26f05-e5f0-45fa-ac44-e1126132e92a button.colab-df-convert');\n",
              "        buttonEl.style.display =\n",
              "          google.colab.kernel.accessAllowed ? 'block' : 'none';\n",
              "\n",
              "        async function convertToInteractive(key) {\n",
              "          const element = document.querySelector('#df-79c26f05-e5f0-45fa-ac44-e1126132e92a');\n",
              "          const dataTable =\n",
              "            await google.colab.kernel.invokeFunction('convertToInteractive',\n",
              "                                                     [key], {});\n",
              "          if (!dataTable) return;\n",
              "\n",
              "          const docLinkHtml = 'Like what you see? Visit the ' +\n",
              "            '<a target=\"_blank\" href=https://colab.research.google.com/notebooks/data_table.ipynb>data table notebook</a>'\n",
              "            + ' to learn more about interactive tables.';\n",
              "          element.innerHTML = '';\n",
              "          dataTable['output_type'] = 'display_data';\n",
              "          await google.colab.output.renderOutput(dataTable, element);\n",
              "          const docLink = document.createElement('div');\n",
              "          docLink.innerHTML = docLinkHtml;\n",
              "          element.appendChild(docLink);\n",
              "        }\n",
              "      </script>\n",
              "    </div>\n",
              "  </div>\n",
              "  "
            ]
          },
          "metadata": {},
          "execution_count": 9
        }
      ]
    },
    {
      "cell_type": "code",
      "source": [
        "from sklearn.model_selection import train_test_split"
      ],
      "metadata": {
        "id": "dRgwBlIWvN64"
      },
      "execution_count": null,
      "outputs": []
    },
    {
      "cell_type": "markdown",
      "source": [
        "문제와 답 분리 "
      ],
      "metadata": {
        "id": "1jEWOy9Dvm8f"
      }
    },
    {
      "cell_type": "code",
      "source": [
        "X = studentData['studytime'] # studytime\n",
        "y = studentData['G3']# G3"
      ],
      "metadata": {
        "id": "flOzcYPmvOBy"
      },
      "execution_count": null,
      "outputs": []
    },
    {
      "cell_type": "code",
      "source": [
        "X_train,X_test,y_train,y_test = train_test_split(X,y, random_state = 0)"
      ],
      "metadata": {
        "id": "CtvkyPPsvOEw"
      },
      "execution_count": null,
      "outputs": []
    },
    {
      "cell_type": "code",
      "source": [
        "X_train.shape,X_test.shape,y_train.shape,y_test.shape"
      ],
      "metadata": {
        "colab": {
          "base_uri": "https://localhost:8080/"
        },
        "id": "CJod3e6HvOHj",
        "outputId": "4d1c2aac-d0bd-41f5-a4ac-cf53df6a84e2"
      },
      "execution_count": null,
      "outputs": [
        {
          "output_type": "execute_result",
          "data": {
            "text/plain": [
              "((296,), (99,), (296,), (99,))"
            ]
          },
          "metadata": {},
          "execution_count": 13
        }
      ]
    },
    {
      "cell_type": "code",
      "source": [],
      "metadata": {
        "id": "5hHwi-dwvOKW"
      },
      "execution_count": null,
      "outputs": []
    },
    {
      "cell_type": "markdown",
      "source": [
        "### 신경망 모델 만들기\n",
        " 1. 신경망 구조 설계\n",
        " 2. 신경망 모델 학습(loss, optimizer) / 평가\n",
        " (metrics)방법 설정\n",
        " 3. 학습 및 학습과정 시각화\n",
        " 4. 모델평가"
      ],
      "metadata": {
        "id": "aw_a5oW1x7M3"
      }
    },
    {
      "cell_type": "code",
      "source": [
        "from tensorflow.keras import Sequential\n",
        "from tensorflow.keras.layers import InputLayer, Dense"
      ],
      "metadata": {
        "id": "Wzh5w23avONO"
      },
      "execution_count": null,
      "outputs": []
    },
    {
      "cell_type": "code",
      "source": [
        "# 1. 신경망 구조설계\n",
        "model = Sequential() # 딥러닝 모델을 구성하는 \n",
        "\n",
        "model.add(InputLayer(input_shape=(1,)))   # 입력층 설정\n",
        "model.add(Dense(units=6))\n",
        "model.add(Dense(units=5))\n",
        "model.add(Dense(units=9))\n",
        "model.add(Dense(units=1)) # 마지막 유닛은 무조건 1개로 지정해줘야됨\n",
        "                          # 출력층"
      ],
      "metadata": {
        "id": "jC27peXMvOP2"
      },
      "execution_count": null,
      "outputs": []
    },
    {
      "cell_type": "code",
      "source": [
        "# 2. 신경망 모델 학습(loss, optimizer) / 평가 (metrics)방법 설정\n",
        "# 모델을 직접 설계했기 떄문에 직접 적어줘야함\n",
        "\n",
        "model.compile(loss='mean_squared_error',\n",
        "              optimizer='SGD')"
      ],
      "metadata": {
        "id": "bSWfMmIvvOSs"
      },
      "execution_count": null,
      "outputs": []
    },
    {
      "cell_type": "code",
      "source": [
        "# 3. 학습 및 학습과정 시각화\n",
        "studentHistory = model.fit(X_train,y_train, epochs = 100)"
      ],
      "metadata": {
        "colab": {
          "base_uri": "https://localhost:8080/"
        },
        "id": "Kn4yi5lKvOVk",
        "outputId": "4b0cf0de-5b35-4a60-c4ac-c4a445822c19"
      },
      "execution_count": null,
      "outputs": [
        {
          "output_type": "stream",
          "name": "stdout",
          "text": [
            "Epoch 1/100\n",
            "10/10 [==============================] - 1s 2ms/step - loss: 73.1513\n",
            "Epoch 2/100\n",
            "10/10 [==============================] - 0s 2ms/step - loss: 81.7706\n",
            "Epoch 3/100\n",
            "10/10 [==============================] - 0s 2ms/step - loss: 32.2850\n",
            "Epoch 4/100\n",
            "10/10 [==============================] - 0s 2ms/step - loss: 32.5599\n",
            "Epoch 5/100\n",
            "10/10 [==============================] - 0s 2ms/step - loss: 25.1004\n",
            "Epoch 6/100\n",
            "10/10 [==============================] - 0s 2ms/step - loss: 19.2744\n",
            "Epoch 7/100\n",
            "10/10 [==============================] - 0s 2ms/step - loss: 19.2912\n",
            "Epoch 8/100\n",
            "10/10 [==============================] - 0s 2ms/step - loss: 20.9428\n",
            "Epoch 9/100\n",
            "10/10 [==============================] - 0s 2ms/step - loss: 18.1117\n",
            "Epoch 10/100\n",
            "10/10 [==============================] - 0s 2ms/step - loss: 18.9491\n",
            "Epoch 11/100\n",
            "10/10 [==============================] - 0s 2ms/step - loss: 18.0843\n",
            "Epoch 12/100\n",
            "10/10 [==============================] - 0s 2ms/step - loss: 18.2623\n",
            "Epoch 13/100\n",
            "10/10 [==============================] - 0s 2ms/step - loss: 19.5550\n",
            "Epoch 14/100\n",
            "10/10 [==============================] - 0s 2ms/step - loss: 18.0406\n",
            "Epoch 15/100\n",
            "10/10 [==============================] - 0s 2ms/step - loss: 19.1257\n",
            "Epoch 16/100\n",
            "10/10 [==============================] - 0s 2ms/step - loss: 19.8754\n",
            "Epoch 17/100\n",
            "10/10 [==============================] - 0s 2ms/step - loss: 18.3248\n",
            "Epoch 18/100\n",
            "10/10 [==============================] - 0s 2ms/step - loss: 18.1548\n",
            "Epoch 19/100\n",
            "10/10 [==============================] - 0s 2ms/step - loss: 18.2367\n",
            "Epoch 20/100\n",
            "10/10 [==============================] - 0s 2ms/step - loss: 20.0389\n",
            "Epoch 21/100\n",
            "10/10 [==============================] - 0s 2ms/step - loss: 17.9706\n",
            "Epoch 22/100\n",
            "10/10 [==============================] - 0s 2ms/step - loss: 20.3036\n",
            "Epoch 23/100\n",
            "10/10 [==============================] - 0s 3ms/step - loss: 18.6314\n",
            "Epoch 24/100\n",
            "10/10 [==============================] - 0s 4ms/step - loss: 18.9278\n",
            "Epoch 25/100\n",
            "10/10 [==============================] - 0s 3ms/step - loss: 18.5953\n",
            "Epoch 26/100\n",
            "10/10 [==============================] - 0s 2ms/step - loss: 19.0344\n",
            "Epoch 27/100\n",
            "10/10 [==============================] - 0s 2ms/step - loss: 18.1785\n",
            "Epoch 28/100\n",
            "10/10 [==============================] - 0s 3ms/step - loss: 18.1921\n",
            "Epoch 29/100\n",
            "10/10 [==============================] - 0s 3ms/step - loss: 18.1271\n",
            "Epoch 30/100\n",
            "10/10 [==============================] - 0s 3ms/step - loss: 18.1969\n",
            "Epoch 31/100\n",
            "10/10 [==============================] - 0s 3ms/step - loss: 18.1912\n",
            "Epoch 32/100\n",
            "10/10 [==============================] - 0s 3ms/step - loss: 18.0864\n",
            "Epoch 33/100\n",
            "10/10 [==============================] - 0s 3ms/step - loss: 18.9541\n",
            "Epoch 34/100\n",
            "10/10 [==============================] - 0s 3ms/step - loss: 18.6536\n",
            "Epoch 35/100\n",
            "10/10 [==============================] - 0s 3ms/step - loss: 18.3194\n",
            "Epoch 36/100\n",
            "10/10 [==============================] - 0s 3ms/step - loss: 18.2297\n",
            "Epoch 37/100\n",
            "10/10 [==============================] - 0s 3ms/step - loss: 18.6614\n",
            "Epoch 38/100\n",
            "10/10 [==============================] - 0s 3ms/step - loss: 18.4332\n",
            "Epoch 39/100\n",
            "10/10 [==============================] - 0s 3ms/step - loss: 18.4826\n",
            "Epoch 40/100\n",
            "10/10 [==============================] - 0s 2ms/step - loss: 18.3083\n",
            "Epoch 41/100\n",
            "10/10 [==============================] - 0s 3ms/step - loss: 18.1580\n",
            "Epoch 42/100\n",
            "10/10 [==============================] - 0s 2ms/step - loss: 18.6162\n",
            "Epoch 43/100\n",
            "10/10 [==============================] - 0s 2ms/step - loss: 18.0150\n",
            "Epoch 44/100\n",
            "10/10 [==============================] - 0s 2ms/step - loss: 18.0507\n",
            "Epoch 45/100\n",
            "10/10 [==============================] - 0s 2ms/step - loss: 17.9798\n",
            "Epoch 46/100\n",
            "10/10 [==============================] - 0s 2ms/step - loss: 18.3522\n",
            "Epoch 47/100\n",
            "10/10 [==============================] - 0s 2ms/step - loss: 19.1878\n",
            "Epoch 48/100\n",
            "10/10 [==============================] - 0s 2ms/step - loss: 19.0429\n",
            "Epoch 49/100\n",
            "10/10 [==============================] - 0s 2ms/step - loss: 18.2730\n",
            "Epoch 50/100\n",
            "10/10 [==============================] - 0s 2ms/step - loss: 18.0792\n",
            "Epoch 51/100\n",
            "10/10 [==============================] - 0s 2ms/step - loss: 18.3454\n",
            "Epoch 52/100\n",
            "10/10 [==============================] - 0s 2ms/step - loss: 18.5514\n",
            "Epoch 53/100\n",
            "10/10 [==============================] - 0s 2ms/step - loss: 18.1745\n",
            "Epoch 54/100\n",
            "10/10 [==============================] - 0s 2ms/step - loss: 18.3939\n",
            "Epoch 55/100\n",
            "10/10 [==============================] - 0s 2ms/step - loss: 18.4890\n",
            "Epoch 56/100\n",
            "10/10 [==============================] - 0s 2ms/step - loss: 18.4155\n",
            "Epoch 57/100\n",
            "10/10 [==============================] - 0s 2ms/step - loss: 18.1136\n",
            "Epoch 58/100\n",
            "10/10 [==============================] - 0s 3ms/step - loss: 17.9650\n",
            "Epoch 59/100\n",
            "10/10 [==============================] - 0s 2ms/step - loss: 18.2274\n",
            "Epoch 60/100\n",
            "10/10 [==============================] - 0s 2ms/step - loss: 17.9875\n",
            "Epoch 61/100\n",
            "10/10 [==============================] - 0s 2ms/step - loss: 18.3209\n",
            "Epoch 62/100\n",
            "10/10 [==============================] - 0s 2ms/step - loss: 18.7680\n",
            "Epoch 63/100\n",
            "10/10 [==============================] - 0s 2ms/step - loss: 17.8899\n",
            "Epoch 64/100\n",
            "10/10 [==============================] - 0s 4ms/step - loss: 17.9133\n",
            "Epoch 65/100\n",
            "10/10 [==============================] - 0s 2ms/step - loss: 18.5468\n",
            "Epoch 66/100\n",
            "10/10 [==============================] - 0s 3ms/step - loss: 18.2456\n",
            "Epoch 67/100\n",
            "10/10 [==============================] - 0s 2ms/step - loss: 18.8176\n",
            "Epoch 68/100\n",
            "10/10 [==============================] - 0s 2ms/step - loss: 18.0887\n",
            "Epoch 69/100\n",
            "10/10 [==============================] - 0s 2ms/step - loss: 18.0874\n",
            "Epoch 70/100\n",
            "10/10 [==============================] - 0s 2ms/step - loss: 18.4207\n",
            "Epoch 71/100\n",
            "10/10 [==============================] - 0s 2ms/step - loss: 18.4105\n",
            "Epoch 72/100\n",
            "10/10 [==============================] - 0s 2ms/step - loss: 18.1985\n",
            "Epoch 73/100\n",
            "10/10 [==============================] - 0s 2ms/step - loss: 18.8009\n",
            "Epoch 74/100\n",
            "10/10 [==============================] - 0s 2ms/step - loss: 18.4883\n",
            "Epoch 75/100\n",
            "10/10 [==============================] - 0s 2ms/step - loss: 18.0617\n",
            "Epoch 76/100\n",
            "10/10 [==============================] - 0s 2ms/step - loss: 18.1697\n",
            "Epoch 77/100\n",
            "10/10 [==============================] - 0s 2ms/step - loss: 18.3697\n",
            "Epoch 78/100\n",
            "10/10 [==============================] - 0s 2ms/step - loss: 18.2227\n",
            "Epoch 79/100\n",
            "10/10 [==============================] - 0s 2ms/step - loss: 18.1618\n",
            "Epoch 80/100\n",
            "10/10 [==============================] - 0s 2ms/step - loss: 18.7367\n",
            "Epoch 81/100\n",
            "10/10 [==============================] - 0s 2ms/step - loss: 18.2540\n",
            "Epoch 82/100\n",
            "10/10 [==============================] - 0s 2ms/step - loss: 18.5310\n",
            "Epoch 83/100\n",
            "10/10 [==============================] - 0s 2ms/step - loss: 18.0767\n",
            "Epoch 84/100\n",
            "10/10 [==============================] - 0s 2ms/step - loss: 18.6746\n",
            "Epoch 85/100\n",
            "10/10 [==============================] - 0s 2ms/step - loss: 18.3952\n",
            "Epoch 86/100\n",
            "10/10 [==============================] - 0s 2ms/step - loss: 17.9655\n",
            "Epoch 87/100\n",
            "10/10 [==============================] - 0s 2ms/step - loss: 18.0027\n",
            "Epoch 88/100\n",
            "10/10 [==============================] - 0s 3ms/step - loss: 18.2898\n",
            "Epoch 89/100\n",
            "10/10 [==============================] - 0s 2ms/step - loss: 18.0025\n",
            "Epoch 90/100\n",
            "10/10 [==============================] - 0s 2ms/step - loss: 18.4255\n",
            "Epoch 91/100\n",
            "10/10 [==============================] - 0s 3ms/step - loss: 18.2212\n",
            "Epoch 92/100\n",
            "10/10 [==============================] - 0s 2ms/step - loss: 18.4691\n",
            "Epoch 93/100\n",
            "10/10 [==============================] - 0s 3ms/step - loss: 18.5832\n",
            "Epoch 94/100\n",
            "10/10 [==============================] - 0s 5ms/step - loss: 18.4011\n",
            "Epoch 95/100\n",
            "10/10 [==============================] - 0s 7ms/step - loss: 18.1773\n",
            "Epoch 96/100\n",
            "10/10 [==============================] - 0s 6ms/step - loss: 18.3573\n",
            "Epoch 97/100\n",
            "10/10 [==============================] - 0s 4ms/step - loss: 18.3163\n",
            "Epoch 98/100\n",
            "10/10 [==============================] - 0s 4ms/step - loss: 18.8468\n",
            "Epoch 99/100\n",
            "10/10 [==============================] - 0s 7ms/step - loss: 18.0527\n",
            "Epoch 100/100\n",
            "10/10 [==============================] - 0s 5ms/step - loss: 17.9628\n"
          ]
        }
      ]
    },
    {
      "cell_type": "code",
      "source": [
        "import matplotlib.pyplot as plt"
      ],
      "metadata": {
        "id": "S0IbKVQ8vOZF"
      },
      "execution_count": null,
      "outputs": []
    },
    {
      "cell_type": "code",
      "source": [
        "plt.figure(figsize = (15,5))\n",
        "plt.plot(range(1, 101),\n",
        "         studentHistory.history['loss'],\n",
        "         label=['loss'])\n",
        "plt.show()"
      ],
      "metadata": {
        "colab": {
          "base_uri": "https://localhost:8080/",
          "height": 308
        },
        "id": "d98sAdlsvOb9",
        "outputId": "e56edc13-3b17-423a-8441-3d8466efed7a"
      },
      "execution_count": null,
      "outputs": [
        {
          "output_type": "display_data",
          "data": {
            "text/plain": [
              "<Figure size 1080x360 with 1 Axes>"
            ],
            "image/png": "[encoded data removed]"
          },
          "metadata": {
            "needs_background": "light"
          }
        }
      ]
    },
    {
      "cell_type": "code",
      "source": [
        "# 4. 모델 평가\n",
        "model.evaluate(X_test,y_test)"
      ],
      "metadata": {
        "colab": {
          "base_uri": "https://localhost:8080/"
        },
        "id": "mWrlpr2W8rWS",
        "outputId": "4669343f-1f14-49d5-ed64-bd43c8d066ec"
      },
      "execution_count": null,
      "outputs": [
        {
          "output_type": "stream",
          "name": "stdout",
          "text": [
            "4/4 [==============================] - 1s 3ms/step - loss: 29.5877\n"
          ]
        },
        {
          "output_type": "execute_result",
          "data": {
            "text/plain": [
              "29.587677001953125"
            ]
          },
          "metadata": {},
          "execution_count": 20
        }
      ]
    },
    {
      "cell_type": "code",
      "source": [
        "# 5. 모델 예측\n",
        "model.predict(X_test[:0])"
      ],
      "metadata": {
        "id": "LbSvP0xJ959C",
        "colab": {
          "base_uri": "https://localhost:8080/",
          "height": 193
        },
        "outputId": "55bea620-1d9a-4d1a-be11-8f3de00de8d8"
      },
      "execution_count": null,
      "outputs": [
        {
          "output_type": "error",
          "ename": "NameError",
          "evalue": "ignored",
          "traceback": [
            "\u001b[0;31m---------------------------------------------------------------------------\u001b[0m",
            "\u001b[0;31mNameError\u001b[0m                                 Traceback (most recent call last)",
            "\u001b[0;32m<ipython-input-1-0a5c7d9e0bcc>\u001b[0m in \u001b[0;36m<module>\u001b[0;34m\u001b[0m\n\u001b[1;32m      1\u001b[0m \u001b[0;31m# 5. 모델 예측\u001b[0m\u001b[0;34m\u001b[0m\u001b[0;34m\u001b[0m\u001b[0;34m\u001b[0m\u001b[0m\n\u001b[0;32m----> 2\u001b[0;31m \u001b[0mmodel\u001b[0m\u001b[0;34m.\u001b[0m\u001b[0mpredict\u001b[0m\u001b[0;34m(\u001b[0m\u001b[0mX_test\u001b[0m\u001b[0;34m[\u001b[0m\u001b[0;34m:\u001b[0m\u001b[0;36m0\u001b[0m\u001b[0;34m]\u001b[0m\u001b[0;34m)\u001b[0m\u001b[0;34m\u001b[0m\u001b[0;34m\u001b[0m\u001b[0m\n\u001b[0m",
            "\u001b[0;31mNameError\u001b[0m: name 'model' is not defined"
          ]
        }
      ]
    },
    {
      "cell_type": "code",
      "source": [],
      "metadata": {
        "id": "RpdR-A3U96J5"
      },
      "execution_count": null,
      "outputs": []
    },
    {
      "cell_type": "code",
      "source": [],
      "metadata": {
        "id": "Lz15SrHC96NB"
      },
      "execution_count": null,
      "outputs": []
    },
    {
      "cell_type": "code",
      "source": [],
      "metadata": {
        "id": "368FqbfI96TB"
      },
      "execution_count": null,
      "outputs": []
    },
    {
      "cell_type": "code",
      "source": [],
      "metadata": {
        "id": "yaAmPPek96W5"
      },
      "execution_count": null,
      "outputs": []
    },
    {
      "cell_type": "code",
      "source": [],
      "metadata": {
        "id": "MWovSzMA96aa"
      },
      "execution_count": null,
      "outputs": []
    },
    {
      "cell_type": "code",
      "source": [],
      "metadata": {
        "id": "Fukd93ah96eG"
      },
      "execution_count": null,
      "outputs": []
    },
    {
      "cell_type": "code",
      "source": [],
      "metadata": {
        "id": "8WlKT4ss96ht"
      },
      "execution_count": null,
      "outputs": []
    }
  ]
}