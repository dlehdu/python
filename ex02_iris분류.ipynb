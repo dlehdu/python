{
  "nbformat": 4,
  "nbformat_minor": 0,
  "metadata": {
    "colab": {
      "provenance": [],
      "authorship_tag": "ABX9TyNpiCzm6C0gso1GcabCk8iA",
      "include_colab_link": true
    },
    "kernelspec": {
      "name": "python3",
      "display_name": "Python 3"
    },
    "language_info": {
      "name": "python"
    },
    "accelerator": "GPU",
    "gpuClass": "standard"
  },
  "cells": [
    {
      "cell_type": "markdown",
      "metadata": {
        "id": "view-in-github",
        "colab_type": "text"
      },
      "source": [
        "<a href=\"https://colab.research.google.com/github/didlaak/python/blob/main/ex02_iris%EB%B6%84%EB%A5%98.ipynb\" target=\"_parent\"><img src=\"https://colab.research.google.com/assets/colab-badge.svg\" alt=\"Open In Colab\"/></a>"
      ]
    },
    {
      "cell_type": "code",
      "execution_count": null,
      "metadata": {
        "id": "RNXONyL926eH"
      },
      "outputs": [],
      "source": [
        "# 1.  문제 정의\n",
        "# iris 데이터 분류\n",
        "# 1. 머신러닝과 어떤점이 달랐는가\n",
        "# 2. 딥러닝에서는 어떤곳에 집중하는가\n"
      ]
    },
    {
      "cell_type": "code",
      "source": [
        "# 2. 데이터 수집\n",
        "# 기존에 정리되어있던 자료 가져오기\n",
        "from sklearn.datasets import load_iris\n",
        "data = load_iris()"
      ],
      "metadata": {
        "id": "rSgnm9qf4X7q"
      },
      "execution_count": null,
      "outputs": []
    },
    {
      "cell_type": "code",
      "source": [
        "data.keys()"
      ],
      "metadata": {
        "colab": {
          "base_uri": "https://localhost:8080/"
        },
        "id": "tGLRQs7C4oWc",
        "outputId": "8eadc866-7e21-4f40-9e44-361d1cc91c29"
      },
      "execution_count": null,
      "outputs": [
        {
          "output_type": "execute_result",
          "data": {
            "text/plain": [
              "dict_keys(['data', 'target', 'frame', 'target_names', 'DESCR', 'feature_names', 'filename', 'data_module'])"
            ]
          },
          "metadata": {},
          "execution_count": 38
        }
      ]
    },
    {
      "cell_type": "code",
      "source": [
        "# 3. 데이터 전처리\n",
        "# 결측치, 이상치\n",
        "X = data['data'] # 문제\n",
        "y = data['target'] # 정답"
      ],
      "metadata": {
        "id": "f7iXt0Dh4zmI"
      },
      "execution_count": null,
      "outputs": []
    },
    {
      "cell_type": "code",
      "source": [
        "# 4. 탐색적 데이터 분석"
      ],
      "metadata": {
        "id": "XoXfM7AM47Ha"
      },
      "execution_count": null,
      "outputs": []
    },
    {
      "cell_type": "code",
      "source": [
        "# 5. 모델 선택 및 하이퍼 파라미터 튜닝 > 머신러닝\n",
        "# 5. 모델 설계 및 학습 방법 설정 > 딥러닝\n",
        "# 데이터 나누기(train, test) - 데이터를 전처리 완료한후에 사용하자!!\n",
        "\n",
        "from sklearn.model_selection import train_test_split\n",
        "X_train, X_test, y_train, y_test = train_test_split(X,y,test_size =0.3)"
      ],
      "metadata": {
        "id": "17QdQwo45Sx7"
      },
      "execution_count": null,
      "outputs": []
    },
    {
      "cell_type": "code",
      "source": [
        "X_train.shape "
      ],
      "metadata": {
        "colab": {
          "base_uri": "https://localhost:8080/"
        },
        "id": "Qo9JPfWw8Yjx",
        "outputId": "74041690-d471-4844-d42e-7e93bb11a171"
      },
      "execution_count": null,
      "outputs": [
        {
          "output_type": "execute_result",
          "data": {
            "text/plain": [
              "(105, 4)"
            ]
          },
          "metadata": {},
          "execution_count": 42
        }
      ]
    },
    {
      "cell_type": "code",
      "source": [
        "# 5-1 모델 설계\n",
        "from tensorflow.keras import Sequential # 딥러닝 모델의 뼈대\n",
        "from tensorflow.keras.layers import InputLayer, Dense # 하나의 층의 디자인\n",
        "# inputLayer : 데이터를 받아오는 역할, 데이터의 형태 지정\n",
        "# Dense : 데이터를 분석\n",
        "\n",
        "# DNN(Keep neural network)\n",
        "# MLP(Multi Layer Perceptron) -> InputLayer와 Dense만 사용\n",
        "model = Sequential()\n",
        "\n",
        "# 입력층\n",
        "model.add(InputLayer(input_shape = (4,)))\n",
        "# 전체 몇개의 데이터가 들어오는지는 몰라도됨\n",
        "# 한번에 몇개가 들어오는지는 알아야함 -> 붓꽃 데이터의 특성(꽃잎 길이, 꽃잎 넓이, 꽃받침 길이, 꽃받침 넓이)\n",
        "\n",
        "# 중간층(2계층)\n",
        "model.add(Dense(units = 32, activation = 'relu')) \n",
        "# units : 퍼센트론의 숫자(생각하는 방법의 수)\n",
        "# activation : 다음층에 값을 전달하는 방법\n",
        "model.add(Dense(units = 32, activation = 'relu')) \n",
        "\n",
        "# 출력층\n",
        "# units : 퍼센트론의 숫자(생각하는 방법의 수) -> 출력해야하는 정답의 종류\n",
        "# activation : 다음층에 값을 전달하는 방법 -> 마지막층은 값을 종합해서 결론\n",
        "model.add(Dense(units = 3, activation = 'softmax')) \n",
        "\n"
      ],
      "metadata": {
        "id": "8XICLrQu5U_J"
      },
      "execution_count": null,
      "outputs": []
    },
    {
      "cell_type": "code",
      "source": [
        "# 5-2 학습방법설정\n",
        "model.compile(\n",
        "    loss = 'sparse_categorical_crossentropy',\n",
        "    optimizer = 'adam',\n",
        "    metrics = ['accuracy']\n",
        ")"
      ],
      "metadata": {
        "id": "NhlAEP8q5WaZ"
      },
      "execution_count": null,
      "outputs": []
    },
    {
      "cell_type": "code",
      "source": [
        "# 6. 학습\n",
        "# epovhs = 100 100번동안 발전하는 딥러닝 모델\n",
        "history = model.fit(X_train, y_train, epochs = 100)\n",
        "# 전에 학습했던 내용을 기억"
      ],
      "metadata": {
        "colab": {
          "base_uri": "https://localhost:8080/"
        },
        "id": "QLRX_yFB5WdQ",
        "outputId": "48425c01-61e7-4691-b8bf-5f578672f903"
      },
      "execution_count": null,
      "outputs": [
        {
          "output_type": "stream",
          "name": "stdout",
          "text": [
            "Epoch 1/100\n",
            "4/4 [==============================] - 1s 5ms/step - loss: 2.2393 - accuracy: 0.3619\n",
            "Epoch 2/100\n",
            "4/4 [==============================] - 0s 4ms/step - loss: 1.8960 - accuracy: 0.3619\n",
            "Epoch 3/100\n",
            "4/4 [==============================] - 0s 4ms/step - loss: 1.6793 - accuracy: 0.4000\n",
            "Epoch 4/100\n",
            "4/4 [==============================] - 0s 4ms/step - loss: 1.5224 - accuracy: 0.3333\n",
            "Epoch 5/100\n",
            "4/4 [==============================] - 0s 4ms/step - loss: 1.3715 - accuracy: 0.3333\n",
            "Epoch 6/100\n",
            "4/4 [==============================] - 0s 4ms/step - loss: 1.2279 - accuracy: 0.3333\n",
            "Epoch 7/100\n",
            "4/4 [==============================] - 0s 4ms/step - loss: 1.0896 - accuracy: 0.3333\n",
            "Epoch 8/100\n",
            "4/4 [==============================] - 0s 5ms/step - loss: 0.9651 - accuracy: 0.3333\n",
            "Epoch 9/100\n",
            "4/4 [==============================] - 0s 4ms/step - loss: 0.8802 - accuracy: 0.3429\n",
            "Epoch 10/100\n",
            "4/4 [==============================] - 0s 8ms/step - loss: 0.8161 - accuracy: 0.7810\n",
            "Epoch 11/100\n",
            "4/4 [==============================] - 0s 4ms/step - loss: 0.7894 - accuracy: 0.9048\n",
            "Epoch 12/100\n",
            "4/4 [==============================] - 0s 4ms/step - loss: 0.7674 - accuracy: 0.9333\n",
            "Epoch 13/100\n",
            "4/4 [==============================] - 0s 4ms/step - loss: 0.7453 - accuracy: 0.9143\n",
            "Epoch 14/100\n",
            "4/4 [==============================] - 0s 5ms/step - loss: 0.7230 - accuracy: 0.7905\n",
            "Epoch 15/100\n",
            "4/4 [==============================] - 0s 4ms/step - loss: 0.6996 - accuracy: 0.6952\n",
            "Epoch 16/100\n",
            "4/4 [==============================] - 0s 5ms/step - loss: 0.6753 - accuracy: 0.6857\n",
            "Epoch 17/100\n",
            "4/4 [==============================] - 0s 4ms/step - loss: 0.6525 - accuracy: 0.7905\n",
            "Epoch 18/100\n",
            "4/4 [==============================] - 0s 4ms/step - loss: 0.6305 - accuracy: 0.8667\n",
            "Epoch 19/100\n",
            "4/4 [==============================] - 0s 4ms/step - loss: 0.6117 - accuracy: 0.8667\n",
            "Epoch 20/100\n",
            "4/4 [==============================] - 0s 4ms/step - loss: 0.5955 - accuracy: 0.8667\n",
            "Epoch 21/100\n",
            "4/4 [==============================] - 0s 4ms/step - loss: 0.5799 - accuracy: 0.8381\n",
            "Epoch 22/100\n",
            "4/4 [==============================] - 0s 4ms/step - loss: 0.5658 - accuracy: 0.8571\n",
            "Epoch 23/100\n",
            "4/4 [==============================] - 0s 4ms/step - loss: 0.5516 - accuracy: 0.8381\n",
            "Epoch 24/100\n",
            "4/4 [==============================] - 0s 4ms/step - loss: 0.5374 - accuracy: 0.8667\n",
            "Epoch 25/100\n",
            "4/4 [==============================] - 0s 4ms/step - loss: 0.5237 - accuracy: 0.9143\n",
            "Epoch 26/100\n",
            "4/4 [==============================] - 0s 5ms/step - loss: 0.5115 - accuracy: 0.9524\n",
            "Epoch 27/100\n",
            "4/4 [==============================] - 0s 5ms/step - loss: 0.4996 - accuracy: 0.9524\n",
            "Epoch 28/100\n",
            "4/4 [==============================] - 0s 4ms/step - loss: 0.4887 - accuracy: 0.9524\n",
            "Epoch 29/100\n",
            "4/4 [==============================] - 0s 5ms/step - loss: 0.4778 - accuracy: 0.9524\n",
            "Epoch 30/100\n",
            "4/4 [==============================] - 0s 5ms/step - loss: 0.4680 - accuracy: 0.9429\n",
            "Epoch 31/100\n",
            "4/4 [==============================] - 0s 5ms/step - loss: 0.4582 - accuracy: 0.9429\n",
            "Epoch 32/100\n",
            "4/4 [==============================] - 0s 5ms/step - loss: 0.4474 - accuracy: 0.9524\n",
            "Epoch 33/100\n",
            "4/4 [==============================] - 0s 6ms/step - loss: 0.4397 - accuracy: 0.9524\n",
            "Epoch 34/100\n",
            "4/4 [==============================] - 0s 5ms/step - loss: 0.4312 - accuracy: 0.9810\n",
            "Epoch 35/100\n",
            "4/4 [==============================] - 0s 5ms/step - loss: 0.4216 - accuracy: 0.9810\n",
            "Epoch 36/100\n",
            "4/4 [==============================] - 0s 5ms/step - loss: 0.4149 - accuracy: 0.9714\n",
            "Epoch 37/100\n",
            "4/4 [==============================] - 0s 5ms/step - loss: 0.4067 - accuracy: 0.9619\n",
            "Epoch 38/100\n",
            "4/4 [==============================] - 0s 5ms/step - loss: 0.3963 - accuracy: 0.9619\n",
            "Epoch 39/100\n",
            "4/4 [==============================] - 0s 5ms/step - loss: 0.3920 - accuracy: 0.9524\n",
            "Epoch 40/100\n",
            "4/4 [==============================] - 0s 7ms/step - loss: 0.3825 - accuracy: 0.9714\n",
            "Epoch 41/100\n",
            "4/4 [==============================] - 0s 5ms/step - loss: 0.3743 - accuracy: 0.9524\n",
            "Epoch 42/100\n",
            "4/4 [==============================] - 0s 5ms/step - loss: 0.3694 - accuracy: 0.9429\n",
            "Epoch 43/100\n",
            "4/4 [==============================] - 0s 5ms/step - loss: 0.3636 - accuracy: 0.9429\n",
            "Epoch 44/100\n",
            "4/4 [==============================] - 0s 5ms/step - loss: 0.3550 - accuracy: 0.9619\n",
            "Epoch 45/100\n",
            "4/4 [==============================] - 0s 5ms/step - loss: 0.3483 - accuracy: 0.9810\n",
            "Epoch 46/100\n",
            "4/4 [==============================] - 0s 5ms/step - loss: 0.3430 - accuracy: 0.9810\n",
            "Epoch 47/100\n",
            "4/4 [==============================] - 0s 5ms/step - loss: 0.3362 - accuracy: 0.9810\n",
            "Epoch 48/100\n",
            "4/4 [==============================] - 0s 4ms/step - loss: 0.3280 - accuracy: 0.9714\n",
            "Epoch 49/100\n",
            "4/4 [==============================] - 0s 4ms/step - loss: 0.3217 - accuracy: 0.9714\n",
            "Epoch 50/100\n",
            "4/4 [==============================] - 0s 7ms/step - loss: 0.3169 - accuracy: 0.9619\n",
            "Epoch 51/100\n",
            "4/4 [==============================] - 0s 5ms/step - loss: 0.3151 - accuracy: 0.9619\n",
            "Epoch 52/100\n",
            "4/4 [==============================] - 0s 5ms/step - loss: 0.3058 - accuracy: 0.9810\n",
            "Epoch 53/100\n",
            "4/4 [==============================] - 0s 5ms/step - loss: 0.2989 - accuracy: 0.9714\n",
            "Epoch 54/100\n",
            "4/4 [==============================] - 0s 4ms/step - loss: 0.2929 - accuracy: 0.9810\n",
            "Epoch 55/100\n",
            "4/4 [==============================] - 0s 5ms/step - loss: 0.2877 - accuracy: 0.9714\n",
            "Epoch 56/100\n",
            "4/4 [==============================] - 0s 5ms/step - loss: 0.2825 - accuracy: 0.9714\n",
            "Epoch 57/100\n",
            "4/4 [==============================] - 0s 4ms/step - loss: 0.2775 - accuracy: 0.9714\n",
            "Epoch 58/100\n",
            "4/4 [==============================] - 0s 4ms/step - loss: 0.2720 - accuracy: 0.9714\n",
            "Epoch 59/100\n",
            "4/4 [==============================] - 0s 4ms/step - loss: 0.2668 - accuracy: 0.9714\n",
            "Epoch 60/100\n",
            "4/4 [==============================] - 0s 4ms/step - loss: 0.2636 - accuracy: 0.9810\n",
            "Epoch 61/100\n",
            "4/4 [==============================] - 0s 4ms/step - loss: 0.2583 - accuracy: 0.9810\n",
            "Epoch 62/100\n",
            "4/4 [==============================] - 0s 4ms/step - loss: 0.2522 - accuracy: 0.9810\n",
            "Epoch 63/100\n",
            "4/4 [==============================] - 0s 4ms/step - loss: 0.2481 - accuracy: 0.9714\n",
            "Epoch 64/100\n",
            "4/4 [==============================] - 0s 4ms/step - loss: 0.2426 - accuracy: 0.9714\n",
            "Epoch 65/100\n",
            "4/4 [==============================] - 0s 4ms/step - loss: 0.2380 - accuracy: 0.9810\n",
            "Epoch 66/100\n",
            "4/4 [==============================] - 0s 4ms/step - loss: 0.2348 - accuracy: 0.9810\n",
            "Epoch 67/100\n",
            "4/4 [==============================] - 0s 5ms/step - loss: 0.2306 - accuracy: 0.9714\n",
            "Epoch 68/100\n",
            "4/4 [==============================] - 0s 5ms/step - loss: 0.2266 - accuracy: 0.9714\n",
            "Epoch 69/100\n",
            "4/4 [==============================] - 0s 5ms/step - loss: 0.2219 - accuracy: 0.9810\n",
            "Epoch 70/100\n",
            "4/4 [==============================] - 0s 5ms/step - loss: 0.2163 - accuracy: 0.9905\n",
            "Epoch 71/100\n",
            "4/4 [==============================] - 0s 5ms/step - loss: 0.2139 - accuracy: 0.9714\n",
            "Epoch 72/100\n",
            "4/4 [==============================] - 0s 5ms/step - loss: 0.2100 - accuracy: 0.9714\n",
            "Epoch 73/100\n",
            "4/4 [==============================] - 0s 4ms/step - loss: 0.2066 - accuracy: 0.9714\n",
            "Epoch 74/100\n",
            "4/4 [==============================] - 0s 5ms/step - loss: 0.2051 - accuracy: 0.9714\n",
            "Epoch 75/100\n",
            "4/4 [==============================] - 0s 5ms/step - loss: 0.2001 - accuracy: 0.9810\n",
            "Epoch 76/100\n",
            "4/4 [==============================] - 0s 5ms/step - loss: 0.1973 - accuracy: 0.9810\n",
            "Epoch 77/100\n",
            "4/4 [==============================] - 0s 5ms/step - loss: 0.1922 - accuracy: 0.9810\n",
            "Epoch 78/100\n",
            "4/4 [==============================] - 0s 5ms/step - loss: 0.1877 - accuracy: 0.9810\n",
            "Epoch 79/100\n",
            "4/4 [==============================] - 0s 5ms/step - loss: 0.1865 - accuracy: 0.9810\n",
            "Epoch 80/100\n",
            "4/4 [==============================] - 0s 4ms/step - loss: 0.1834 - accuracy: 0.9810\n",
            "Epoch 81/100\n",
            "4/4 [==============================] - 0s 5ms/step - loss: 0.1769 - accuracy: 0.9810\n",
            "Epoch 82/100\n",
            "4/4 [==============================] - 0s 4ms/step - loss: 0.1868 - accuracy: 0.9524\n",
            "Epoch 83/100\n",
            "4/4 [==============================] - 0s 4ms/step - loss: 0.1774 - accuracy: 0.9714\n",
            "Epoch 84/100\n",
            "4/4 [==============================] - 0s 5ms/step - loss: 0.1717 - accuracy: 0.9810\n",
            "Epoch 85/100\n",
            "4/4 [==============================] - 0s 4ms/step - loss: 0.1703 - accuracy: 0.9810\n",
            "Epoch 86/100\n",
            "4/4 [==============================] - 0s 4ms/step - loss: 0.1641 - accuracy: 0.9714\n",
            "Epoch 87/100\n",
            "4/4 [==============================] - 0s 8ms/step - loss: 0.1623 - accuracy: 0.9810\n",
            "Epoch 88/100\n",
            "4/4 [==============================] - 0s 5ms/step - loss: 0.1604 - accuracy: 0.9810\n",
            "Epoch 89/100\n",
            "4/4 [==============================] - 0s 5ms/step - loss: 0.1573 - accuracy: 0.9905\n",
            "Epoch 90/100\n",
            "4/4 [==============================] - 0s 6ms/step - loss: 0.1547 - accuracy: 0.9810\n",
            "Epoch 91/100\n",
            "4/4 [==============================] - 0s 4ms/step - loss: 0.1540 - accuracy: 0.9810\n",
            "Epoch 92/100\n",
            "4/4 [==============================] - 0s 4ms/step - loss: 0.1502 - accuracy: 0.9810\n",
            "Epoch 93/100\n",
            "4/4 [==============================] - 0s 4ms/step - loss: 0.1515 - accuracy: 0.9714\n",
            "Epoch 94/100\n",
            "4/4 [==============================] - 0s 4ms/step - loss: 0.1460 - accuracy: 0.9905\n",
            "Epoch 95/100\n",
            "4/4 [==============================] - 0s 4ms/step - loss: 0.1445 - accuracy: 0.9810\n",
            "Epoch 96/100\n",
            "4/4 [==============================] - 0s 5ms/step - loss: 0.1434 - accuracy: 0.9810\n",
            "Epoch 97/100\n",
            "4/4 [==============================] - 0s 5ms/step - loss: 0.1394 - accuracy: 0.9714\n",
            "Epoch 98/100\n",
            "4/4 [==============================] - 0s 4ms/step - loss: 0.1381 - accuracy: 0.9810\n",
            "Epoch 99/100\n",
            "4/4 [==============================] - 0s 5ms/step - loss: 0.1345 - accuracy: 0.9905\n",
            "Epoch 100/100\n",
            "4/4 [==============================] - 0s 5ms/step - loss: 0.1368 - accuracy: 0.9810\n"
          ]
        }
      ]
    },
    {
      "cell_type": "code",
      "source": [
        "import matplotlib.pyplot as plt\n",
        "plt.figure(figsize=(15,5))\n",
        "plt.plot(range(1,101),\n",
        "        history.history['accuracy'],\n",
        "        label='accuracy')\n",
        "plt.show()"
      ],
      "metadata": {
        "colab": {
          "base_uri": "https://localhost:8080/",
          "height": 307
        },
        "id": "fIynGfBG5Wi8",
        "outputId": "20ea7690-1035-4b3b-ba2f-dc0300b80a88"
      },
      "execution_count": null,
      "outputs": [
        {
          "output_type": "display_data",
          "data": {
            "text/plain": [
              "<Figure size 1080x360 with 1 Axes>"
            ],
            "image/png": "[encoded data removed]"
          },
          "metadata": {
            "needs_background": "light"
          }
        }
      ]
    },
    {
      "cell_type": "code",
      "source": [
        "model.predict(X_test[:1])"
      ],
      "metadata": {
        "colab": {
          "base_uri": "https://localhost:8080/"
        },
        "id": "hwSRCYnt5Wm4",
        "outputId": "b1ce67da-f03d-4329-8cd2-20549382f259"
      },
      "execution_count": null,
      "outputs": [
        {
          "output_type": "stream",
          "name": "stdout",
          "text": [
            "1/1 [==============================] - 0s 82ms/step\n"
          ]
        },
        {
          "output_type": "execute_result",
          "data": {
            "text/plain": [
              "array([[9.9223512e-01, 7.5043477e-03, 2.6050775e-04]], dtype=float32)"
            ]
          },
          "metadata": {},
          "execution_count": 47
        }
      ]
    },
    {
      "cell_type": "code",
      "source": [
        "y_train"
      ],
      "metadata": {
        "colab": {
          "base_uri": "https://localhost:8080/"
        },
        "id": "iMcu3mOPGHeN",
        "outputId": "fc2b85f6-bf9b-4d52-9cd7-2f3d72e867bc"
      },
      "execution_count": null,
      "outputs": [
        {
          "output_type": "execute_result",
          "data": {
            "text/plain": [
              "array([1, 0, 1, 0, 0, 0, 2, 2, 0, 1, 2, 0, 1, 2, 0, 0, 0, 2, 2, 2, 2, 2,\n",
              "       2, 0, 1, 1, 1, 0, 2, 2, 0, 2, 2, 0, 2, 2, 1, 0, 0, 0, 1, 1, 1, 2,\n",
              "       0, 1, 0, 2, 1, 2, 1, 1, 1, 2, 1, 1, 2, 0, 1, 0, 0, 1, 0, 1, 1, 0,\n",
              "       1, 0, 0, 2, 2, 2, 1, 1, 0, 1, 2, 0, 0, 0, 1, 1, 0, 2, 0, 1, 2, 2,\n",
              "       0, 2, 2, 0, 0, 1, 1, 2, 0, 2, 2, 2, 1, 1, 0, 2, 0])"
            ]
          },
          "metadata": {},
          "execution_count": 35
        }
      ]
    },
    {
      "cell_type": "markdown",
      "source": [
        "\n",
        "딥러닝 코드에서 우리가 추가적으로 알아야할 개념\n",
        "1. activation의 개념\n",
        "- 다음층의 퍼셉트론에게 값을 전달하기전에 거치는 단계\n",
        "- 층마다 같은 활성화함수를 공유\n",
        "- 출력층에 사용하는 활성화함수\n",
        "  - sigmoid : 이진분류 > 1개 대답 : units =1\n",
        "  - softmax : 다중분류 > 정답의 갯수만큼 대답\n",
        "  - linear : 회귀 > 연속적인 숫자, 1개 대답\n",
        "2. 퍼셉트론의 동작원리\n",
        "- 인간의 뉴런을 모방함\n",
        "- 퍼셉트론 = 선형함수 + 역치(activation)\n",
        "- 다층 퍼셉트론(AND게이트 OR게이트 XOR게이트)\n",
        "3. 출력층이 다른층과의 다른점\n",
        "- 출력층은 결론을 내는 층이다\n",
        "- activation이 분석하는 종류에 따라 다르다\n",
        "- units : \n",
        "  - 이진분류 > 1개 대답 : units =1\n",
        "  - 다중분류 > 정답의 갯수만큼 대답 units = 정답종류\n",
        "  - 회귀 > 연속적인 숫자 : units = 1\n",
        "  - 출력층을 제외한 층(입력, 중간)에서 사용되는 활성화함수\n",
        "    - relu(보통 동작 잘함)\n",
        "    - leaky relu, elu\n",
        "\n",
        "4. compile(학습 방법 설정)\n",
        "  \n",
        "  1) loss(오차)\n",
        "      \n",
        "      - bivary_crossentropy : 이진분류\n",
        "      - categorical_crossentropy : 다중분류\n",
        "          추가)spares_categorical_crossentropy\n",
        "      - mean_squared_error : 회귀\n",
        "  \n",
        "  2) optimizer(최적화 함수 - 경사하강법)\n",
        "      - Adam (보통 좋은 값을 출력함)\n",
        "      - Nadam, RmsProp \n",
        "      - GD / SGD(보통 거의 사용하지 않음)\n",
        "      \n",
        "  3) metrics(평가 방법)\n",
        "      - accuracy : 분류\n",
        "      - mean_squared_error : 회귀, 생략 가능\n",
        "\n",
        "5. 이진분류 / 회귀/ 다중분류마다 달라지는점\n",
        "      - 모델 설계전\n",
        "          - 다중분류만 y데이터에  원핫인코딩 하기\n",
        "      - 모델 설계\n",
        "          - 출력층의 units \n",
        "          \n",
        "          : 이진분류, 회귀 = 1\n",
        "          \n",
        "          : 다중분류 = 클래스의 수(ex혈액형 = 4)\n",
        "          - 출력층의 activation\n",
        "\n",
        "         : 이진분류 = sigmoid\n",
        "\n",
        "         : 다중분류 = softmax\n",
        "\n",
        "         : 회귀 = linaer\n",
        "\n",
        "         : ghlrnl\n",
        "      - 모델 학습 방법 설정\n",
        "        - loss\n",
        "          \n",
        "          : 이진분류 = binary_crossentropy\n",
        "\n",
        "          : 다중분류 \n",
        "            - 원핫인코딩O : categorical_crossentropy\n",
        "            - 원핫인코딩X : spares_categorical_crossentropy\n",
        "          \n",
        "          : 회귀 = mean_squared_error\n",
        "        - metrics\n",
        "\n",
        "          : 분류 = accuracy\n",
        "\n",
        "          : 회귀 = mean_squared_error OR 생략\n",
        "              "
      ],
      "metadata": {
        "id": "lset8vpDIOLN"
      }
    },
    {
      "cell_type": "markdown",
      "source": [
        "-이진분류 - sigmoid : 입력값을 0 ~ 1까지로 변환\n",
        "\n",
        "-다중분류 - softmax : 클래스마다의 예측값을 출력\n",
        "\n",
        "-회귀 - linear : 연속적인 숫자를 출력\n",
        "\n",
        "-출력층을 제외한 층에서 사용되는 활성화함수\n",
        "\n",
        "잘 모르겠다 = relu"
      ],
      "metadata": {
        "id": "fGHZw15cK2wL"
      }
    },
    {
      "cell_type": "code",
      "source": [],
      "metadata": {
        "id": "QQiL9hMVGQSk"
      },
      "execution_count": null,
      "outputs": []
    }
  ]
}