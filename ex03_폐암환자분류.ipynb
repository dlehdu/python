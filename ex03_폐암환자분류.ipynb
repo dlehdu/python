{
  "nbformat": 4,
  "nbformat_minor": 0,
  "metadata": {
    "colab": {
      "provenance": [],
      "mount_file_id": "1wRhU59ZyOtFZ_JLw4xtBwk_Gt1qhX9tz",
      "authorship_tag": "ABX9TyMYEt+vYWotkWh9K4UaJiuC",
      "include_colab_link": true
    },
    "kernelspec": {
      "name": "python3",
      "display_name": "Python 3"
    },
    "language_info": {
      "name": "python"
    },
    "accelerator": "GPU",
    "gpuClass": "standard"
  },
  "cells": [
    {
      "cell_type": "markdown",
      "metadata": {
        "id": "view-in-github",
        "colab_type": "text"
      },
      "source": [
        "<a href=\"https://colab.research.google.com/github/didlaak/python/blob/main/ex03_%ED%8F%90%EC%95%94%ED%99%98%EC%9E%90%EB%B6%84%EB%A5%98.ipynb\" target=\"_parent\"><img src=\"https://colab.research.google.com/assets/colab-badge.svg\" alt=\"Open In Colab\"/></a>"
      ]
    },
    {
      "cell_type": "code",
      "source": [
        "'/content/drive/MyDrive/data/ThoraricSurgery.csv'"
      ],
      "metadata": {
        "colab": {
          "base_uri": "https://localhost:8080/",
          "height": 35
        },
        "id": "Qm5AReUNUsBy",
        "outputId": "a34c520a-cd0b-4ab2-eadf-2afeac50a0da"
      },
      "execution_count": null,
      "outputs": [
        {
          "output_type": "execute_result",
          "data": {
            "text/plain": [
              "'/content/drive/MyDrive/data/ThoraricSurgery.csv'"
            ],
            "application/vnd.google.colaboratory.intrinsic+json": {
              "type": "string"
            }
          },
          "metadata": {},
          "execution_count": 1
        }
      ]
    },
    {
      "cell_type": "code",
      "source": [
        "import pandas as pd\n",
        "data = pd.read_csv('/content/drive/MyDrive/data/ThoraricSurgery.csv', header = None)\n",
        "data.head()"
      ],
      "metadata": {
        "colab": {
          "base_uri": "https://localhost:8080/",
          "height": 206
        },
        "id": "t43o2dYDUu3F",
        "outputId": "6ccf7f42-2e8e-438e-d16d-163e925a25f8"
      },
      "execution_count": null,
      "outputs": [
        {
          "output_type": "execute_result",
          "data": {
            "text/plain": [
              "    0   1     2     3   4   5   6   7   8   9   10  11  12  13  14  15  16  17\n",
              "0  293   1  3.80  2.80   0   0   0   0   0   0  12   0   0   0   1   0  62   0\n",
              "1    1   2  2.88  2.16   1   0   0   0   1   1  14   0   0   0   1   0  60   0\n",
              "2    8   2  3.19  2.50   1   0   0   0   1   0  11   0   0   1   1   0  66   1\n",
              "3   14   2  3.98  3.06   2   0   0   0   1   1  14   0   0   0   1   0  80   1\n",
              "4   17   2  2.21  1.88   0   0   1   0   0   0  12   0   0   0   1   0  56   0"
            ],
            "text/html": [
              "\n",
              "  <div id=\"df-1a899b72-abeb-47c9-ad20-9d4c083a081b\">\n",
              "    <div class=\"colab-df-container\">\n",
              "      <div>\n",
              "<style scoped>\n",
              "    .dataframe tbody tr th:only-of-type {\n",
              "        vertical-align: middle;\n",
              "    }\n",
              "\n",
              "    .dataframe tbody tr th {\n",
              "        vertical-align: top;\n",
              "    }\n",
              "\n",
              "    .dataframe thead th {\n",
              "        text-align: right;\n",
              "    }\n",
              "</style>\n",
              "<table border=\"1\" class=\"dataframe\">\n",
              "  <thead>\n",
              "    <tr style=\"text-align: right;\">\n",
              "      <th></th>\n",
              "      <th>0</th>\n",
              "      <th>1</th>\n",
              "      <th>2</th>\n",
              "      <th>3</th>\n",
              "      <th>4</th>\n",
              "      <th>5</th>\n",
              "      <th>6</th>\n",
              "      <th>7</th>\n",
              "      <th>8</th>\n",
              "      <th>9</th>\n",
              "      <th>10</th>\n",
              "      <th>11</th>\n",
              "      <th>12</th>\n",
              "      <th>13</th>\n",
              "      <th>14</th>\n",
              "      <th>15</th>\n",
              "      <th>16</th>\n",
              "      <th>17</th>\n",
              "    </tr>\n",
              "  </thead>\n",
              "  <tbody>\n",
              "    <tr>\n",
              "      <th>0</th>\n",
              "      <td>293</td>\n",
              "      <td>1</td>\n",
              "      <td>3.80</td>\n",
              "      <td>2.80</td>\n",
              "      <td>0</td>\n",
              "      <td>0</td>\n",
              "      <td>0</td>\n",
              "      <td>0</td>\n",
              "      <td>0</td>\n",
              "      <td>0</td>\n",
              "      <td>12</td>\n",
              "      <td>0</td>\n",
              "      <td>0</td>\n",
              "      <td>0</td>\n",
              "      <td>1</td>\n",
              "      <td>0</td>\n",
              "      <td>62</td>\n",
              "      <td>0</td>\n",
              "    </tr>\n",
              "    <tr>\n",
              "      <th>1</th>\n",
              "      <td>1</td>\n",
              "      <td>2</td>\n",
              "      <td>2.88</td>\n",
              "      <td>2.16</td>\n",
              "      <td>1</td>\n",
              "      <td>0</td>\n",
              "      <td>0</td>\n",
              "      <td>0</td>\n",
              "      <td>1</td>\n",
              "      <td>1</td>\n",
              "      <td>14</td>\n",
              "      <td>0</td>\n",
              "      <td>0</td>\n",
              "      <td>0</td>\n",
              "      <td>1</td>\n",
              "      <td>0</td>\n",
              "      <td>60</td>\n",
              "      <td>0</td>\n",
              "    </tr>\n",
              "    <tr>\n",
              "      <th>2</th>\n",
              "      <td>8</td>\n",
              "      <td>2</td>\n",
              "      <td>3.19</td>\n",
              "      <td>2.50</td>\n",
              "      <td>1</td>\n",
              "      <td>0</td>\n",
              "      <td>0</td>\n",
              "      <td>0</td>\n",
              "      <td>1</td>\n",
              "      <td>0</td>\n",
              "      <td>11</td>\n",
              "      <td>0</td>\n",
              "      <td>0</td>\n",
              "      <td>1</td>\n",
              "      <td>1</td>\n",
              "      <td>0</td>\n",
              "      <td>66</td>\n",
              "      <td>1</td>\n",
              "    </tr>\n",
              "    <tr>\n",
              "      <th>3</th>\n",
              "      <td>14</td>\n",
              "      <td>2</td>\n",
              "      <td>3.98</td>\n",
              "      <td>3.06</td>\n",
              "      <td>2</td>\n",
              "      <td>0</td>\n",
              "      <td>0</td>\n",
              "      <td>0</td>\n",
              "      <td>1</td>\n",
              "      <td>1</td>\n",
              "      <td>14</td>\n",
              "      <td>0</td>\n",
              "      <td>0</td>\n",
              "      <td>0</td>\n",
              "      <td>1</td>\n",
              "      <td>0</td>\n",
              "      <td>80</td>\n",
              "      <td>1</td>\n",
              "    </tr>\n",
              "    <tr>\n",
              "      <th>4</th>\n",
              "      <td>17</td>\n",
              "      <td>2</td>\n",
              "      <td>2.21</td>\n",
              "      <td>1.88</td>\n",
              "      <td>0</td>\n",
              "      <td>0</td>\n",
              "      <td>1</td>\n",
              "      <td>0</td>\n",
              "      <td>0</td>\n",
              "      <td>0</td>\n",
              "      <td>12</td>\n",
              "      <td>0</td>\n",
              "      <td>0</td>\n",
              "      <td>0</td>\n",
              "      <td>1</td>\n",
              "      <td>0</td>\n",
              "      <td>56</td>\n",
              "      <td>0</td>\n",
              "    </tr>\n",
              "  </tbody>\n",
              "</table>\n",
              "</div>\n",
              "      <button class=\"colab-df-convert\" onclick=\"convertToInteractive('df-1a899b72-abeb-47c9-ad20-9d4c083a081b')\"\n",
              "              title=\"Convert this dataframe to an interactive table.\"\n",
              "              style=\"display:none;\">\n",
              "        \n",
              "  <svg xmlns=\"http://www.w3.org/2000/svg\" height=\"24px\"viewBox=\"0 0 24 24\"\n",
              "       width=\"24px\">\n",
              "    <path d=\"M0 0h24v24H0V0z\" fill=\"none\"/>\n",
              "    <path d=\"M18.56 5.44l.94 2.06.94-2.06 2.06-.94-2.06-.94-.94-2.06-.94 2.06-2.06.94zm-11 1L8.5 8.5l.94-2.06 2.06-.94-2.06-.94L8.5 2.5l-.94 2.06-2.06.94zm10 10l.94 2.06.94-2.06 2.06-.94-2.06-.94-.94-2.06-.94 2.06-2.06.94z\"/><path d=\"M17.41 7.96l-1.37-1.37c-.4-.4-.92-.59-1.43-.59-.52 0-1.04.2-1.43.59L10.3 9.45l-7.72 7.72c-.78.78-.78 2.05 0 2.83L4 21.41c.39.39.9.59 1.41.59.51 0 1.02-.2 1.41-.59l7.78-7.78 2.81-2.81c.8-.78.8-2.07 0-2.86zM5.41 20L4 18.59l7.72-7.72 1.47 1.35L5.41 20z\"/>\n",
              "  </svg>\n",
              "      </button>\n",
              "      \n",
              "  <style>\n",
              "    .colab-df-container {\n",
              "      display:flex;\n",
              "      flex-wrap:wrap;\n",
              "      gap: 12px;\n",
              "    }\n",
              "\n",
              "    .colab-df-convert {\n",
              "      background-color: #E8F0FE;\n",
              "      border: none;\n",
              "      border-radius: 50%;\n",
              "      cursor: pointer;\n",
              "      display: none;\n",
              "      fill: #1967D2;\n",
              "      height: 32px;\n",
              "      padding: 0 0 0 0;\n",
              "      width: 32px;\n",
              "    }\n",
              "\n",
              "    .colab-df-convert:hover {\n",
              "      background-color: #E2EBFA;\n",
              "      box-shadow: 0px 1px 2px rgba(60, 64, 67, 0.3), 0px 1px 3px 1px rgba(60, 64, 67, 0.15);\n",
              "      fill: #174EA6;\n",
              "    }\n",
              "\n",
              "    [theme=dark] .colab-df-convert {\n",
              "      background-color: #3B4455;\n",
              "      fill: #D2E3FC;\n",
              "    }\n",
              "\n",
              "    [theme=dark] .colab-df-convert:hover {\n",
              "      background-color: #434B5C;\n",
              "      box-shadow: 0px 1px 3px 1px rgba(0, 0, 0, 0.15);\n",
              "      filter: drop-shadow(0px 1px 2px rgba(0, 0, 0, 0.3));\n",
              "      fill: #FFFFFF;\n",
              "    }\n",
              "  </style>\n",
              "\n",
              "      <script>\n",
              "        const buttonEl =\n",
              "          document.querySelector('#df-1a899b72-abeb-47c9-ad20-9d4c083a081b button.colab-df-convert');\n",
              "        buttonEl.style.display =\n",
              "          google.colab.kernel.accessAllowed ? 'block' : 'none';\n",
              "\n",
              "        async function convertToInteractive(key) {\n",
              "          const element = document.querySelector('#df-1a899b72-abeb-47c9-ad20-9d4c083a081b');\n",
              "          const dataTable =\n",
              "            await google.colab.kernel.invokeFunction('convertToInteractive',\n",
              "                                                     [key], {});\n",
              "          if (!dataTable) return;\n",
              "\n",
              "          const docLinkHtml = 'Like what you see? Visit the ' +\n",
              "            '<a target=\"_blank\" href=https://colab.research.google.com/notebooks/data_table.ipynb>data table notebook</a>'\n",
              "            + ' to learn more about interactive tables.';\n",
              "          element.innerHTML = '';\n",
              "          dataTable['output_type'] = 'display_data';\n",
              "          await google.colab.output.renderOutput(dataTable, element);\n",
              "          const docLink = document.createElement('div');\n",
              "          docLink.innerHTML = docLinkHtml;\n",
              "          element.appendChild(docLink);\n",
              "        }\n",
              "      </script>\n",
              "    </div>\n",
              "  </div>\n",
              "  "
            ]
          },
          "metadata": {},
          "execution_count": 3
        }
      ]
    },
    {
      "cell_type": "code",
      "source": [
        "# 문제와 정답 분리\n",
        "X = data.iloc[:,:-1] # 0~16\n",
        "y = data.iloc[:,-1]#17"
      ],
      "metadata": {
        "id": "QSn5pHJ4Uu5q"
      },
      "execution_count": null,
      "outputs": []
    },
    {
      "cell_type": "code",
      "source": [
        "# 훈련과 평가\n",
        "from sklearn.model_selection import train_test_split\n",
        "X_train, X_test,y_train, y_test = train_test_split(X,y,test_size =0.3)"
      ],
      "metadata": {
        "id": "6Uh1mWFqUu8L"
      },
      "execution_count": null,
      "outputs": []
    },
    {
      "cell_type": "code",
      "source": [
        "X_train.shape"
      ],
      "metadata": {
        "colab": {
          "base_uri": "https://localhost:8080/"
        },
        "id": "bRYYepzpZIAM",
        "outputId": "c536bd9c-7946-4afd-8f2d-c08f989f0ccb"
      },
      "execution_count": null,
      "outputs": [
        {
          "output_type": "execute_result",
          "data": {
            "text/plain": [
              "(329, 17)"
            ]
          },
          "metadata": {},
          "execution_count": 6
        }
      ]
    },
    {
      "cell_type": "code",
      "source": [
        "\n",
        "from tensorflow.keras import Sequential # 딥러닝 모델의 뼈대\n",
        "from tensorflow.keras.layers import InputLayer, Dense\n",
        "# 모델 설계\n",
        "\n",
        "model = Sequential()\n",
        "\n",
        "# model.add(InputLayer(input_shape = (17,)))\n",
        "# model.add(Dense(units = 52, activation = 'relu')) \n",
        "\n",
        "# 중간층은 3개의 층으로 구성, activation : relu, units : 마음대로\n",
        "model.add(Dense(units = 52, activation = 'relu', input_dim=17)) \n",
        "model.add(Dense(units = 32, activation = 'relu')) \n",
        "model.add(Dense(units = 72, activation = 'relu')) \n",
        "\n",
        "# 출력층 이진분류 activation : sigmoid, units :1\n",
        "model.add(Dense(units = 1, activation = 'sigmoid')) \n",
        "model.summary()"
      ],
      "metadata": {
        "colab": {
          "base_uri": "https://localhost:8080/"
        },
        "id": "ST66AFUJUvAy",
        "outputId": "a714e170-f6e3-4275-9343-aaf275104fe1"
      },
      "execution_count": null,
      "outputs": [
        {
          "output_type": "stream",
          "name": "stdout",
          "text": [
            "Model: \"sequential_11\"\n",
            "_________________________________________________________________\n",
            " Layer (type)                Output Shape              Param #   \n",
            "=================================================================\n",
            " dense_50 (Dense)            (None, 52)                936       \n",
            "                                                                 \n",
            " dense_51 (Dense)            (None, 32)                1696      \n",
            "                                                                 \n",
            " dense_52 (Dense)            (None, 72)                2376      \n",
            "                                                                 \n",
            " dense_53 (Dense)            (None, 1)                 73        \n",
            "                                                                 \n",
            "=================================================================\n",
            "Total params: 5,081\n",
            "Trainable params: 5,081\n",
            "Non-trainable params: 0\n",
            "_________________________________________________________________\n"
          ]
        }
      ]
    },
    {
      "cell_type": "code",
      "source": [
        "# 학습 방법 설정\n",
        "model.compile(\n",
        "    loss = 'binary_crossentropy',\n",
        "    optimizer = 'adam',\n",
        "    metrics =['accuracy']\n",
        ")"
      ],
      "metadata": {
        "id": "cLDylJPTUvDE"
      },
      "execution_count": null,
      "outputs": []
    },
    {
      "cell_type": "markdown",
      "source": [
        "1. 개 vs 고양이 이미지 분류하기 -CNN / YOLOv5\n",
        "2. 가위바위보 인공지능 만들기 mediapipe + knn"
      ],
      "metadata": {
        "id": "8kgp6X8Qi0YP"
      }
    },
    {
      "cell_type": "code",
      "source": [
        "model.fit(X_train,y_train, epochs=100,\n",
        "         # validation_data = (X_test,y_test))  --> 데이터가 있을때\n",
        "          validation_split = 0.3     # test 데이터가 없을때 0.3만큼 때와서 test로 써라\n",
        "\n",
        ") "
      ],
      "metadata": {
        "colab": {
          "base_uri": "https://localhost:8080/"
        },
        "id": "unPvfgQhUvF0",
        "outputId": "87c06b5d-9c9e-4f61-d4f5-ec5d54d97bb3"
      },
      "execution_count": null,
      "outputs": [
        {
          "output_type": "stream",
          "name": "stdout",
          "text": [
            "Epoch 1/100\n",
            "11/11 [==============================] - 6s 28ms/step - loss: 1.4104 - accuracy: 0.7021 - val_loss: 0.6867 - val_accuracy: 0.8511\n",
            "Epoch 2/100\n",
            "11/11 [==============================] - 0s 7ms/step - loss: 0.6160 - accuracy: 0.8237 - val_loss: 0.4405 - val_accuracy: 0.8440\n",
            "Epoch 3/100\n",
            "11/11 [==============================] - 0s 8ms/step - loss: 0.4612 - accuracy: 0.8389 - val_loss: 0.4435 - val_accuracy: 0.8652\n",
            "Epoch 4/100\n",
            "11/11 [==============================] - 0s 8ms/step - loss: 0.4415 - accuracy: 0.8450 - val_loss: 0.4185 - val_accuracy: 0.8652\n",
            "Epoch 5/100\n",
            "11/11 [==============================] - 0s 7ms/step - loss: 0.4441 - accuracy: 0.8450 - val_loss: 0.4188 - val_accuracy: 0.8652\n",
            "Epoch 6/100\n",
            "11/11 [==============================] - 0s 7ms/step - loss: 0.4329 - accuracy: 0.8450 - val_loss: 0.4242 - val_accuracy: 0.8652\n",
            "Epoch 7/100\n",
            "11/11 [==============================] - 0s 7ms/step - loss: 0.4373 - accuracy: 0.8450 - val_loss: 0.4474 - val_accuracy: 0.8652\n",
            "Epoch 8/100\n",
            "11/11 [==============================] - 0s 8ms/step - loss: 0.4281 - accuracy: 0.8450 - val_loss: 0.4233 - val_accuracy: 0.8652\n",
            "Epoch 9/100\n",
            "11/11 [==============================] - 0s 6ms/step - loss: 0.4756 - accuracy: 0.8450 - val_loss: 0.6025 - val_accuracy: 0.7730\n",
            "Epoch 10/100\n",
            "11/11 [==============================] - 0s 7ms/step - loss: 0.5279 - accuracy: 0.8207 - val_loss: 0.4423 - val_accuracy: 0.8652\n",
            "Epoch 11/100\n",
            "11/11 [==============================] - 0s 6ms/step - loss: 0.4253 - accuracy: 0.8450 - val_loss: 0.4554 - val_accuracy: 0.8652\n",
            "Epoch 12/100\n",
            "11/11 [==============================] - 0s 7ms/step - loss: 0.4565 - accuracy: 0.8480 - val_loss: 0.4648 - val_accuracy: 0.8652\n",
            "Epoch 13/100\n",
            "11/11 [==============================] - 0s 7ms/step - loss: 0.4802 - accuracy: 0.8359 - val_loss: 0.5281 - val_accuracy: 0.8582\n",
            "Epoch 14/100\n",
            "11/11 [==============================] - 0s 6ms/step - loss: 0.4703 - accuracy: 0.8450 - val_loss: 0.4336 - val_accuracy: 0.8652\n",
            "Epoch 15/100\n",
            "11/11 [==============================] - 0s 8ms/step - loss: 0.4426 - accuracy: 0.8419 - val_loss: 0.4134 - val_accuracy: 0.8652\n",
            "Epoch 16/100\n",
            "11/11 [==============================] - 0s 8ms/step - loss: 0.4709 - accuracy: 0.8328 - val_loss: 0.4584 - val_accuracy: 0.8511\n",
            "Epoch 17/100\n",
            "11/11 [==============================] - 0s 8ms/step - loss: 0.5293 - accuracy: 0.8480 - val_loss: 0.4658 - val_accuracy: 0.8582\n",
            "Epoch 18/100\n",
            "11/11 [==============================] - 0s 7ms/step - loss: 0.4553 - accuracy: 0.8480 - val_loss: 0.5074 - val_accuracy: 0.8511\n",
            "Epoch 19/100\n",
            "11/11 [==============================] - 0s 7ms/step - loss: 0.4681 - accuracy: 0.8450 - val_loss: 0.4835 - val_accuracy: 0.8582\n",
            "Epoch 20/100\n",
            "11/11 [==============================] - 0s 7ms/step - loss: 0.4082 - accuracy: 0.8511 - val_loss: 0.4408 - val_accuracy: 0.8652\n",
            "Epoch 21/100\n",
            "11/11 [==============================] - 0s 7ms/step - loss: 0.4250 - accuracy: 0.8480 - val_loss: 0.4233 - val_accuracy: 0.8652\n",
            "Epoch 22/100\n",
            "11/11 [==============================] - 0s 7ms/step - loss: 0.4175 - accuracy: 0.8480 - val_loss: 0.4308 - val_accuracy: 0.8652\n",
            "Epoch 23/100\n",
            "11/11 [==============================] - 0s 8ms/step - loss: 0.4106 - accuracy: 0.8480 - val_loss: 0.4589 - val_accuracy: 0.8652\n",
            "Epoch 24/100\n",
            "11/11 [==============================] - 0s 8ms/step - loss: 0.4597 - accuracy: 0.8480 - val_loss: 0.4503 - val_accuracy: 0.8582\n",
            "Epoch 25/100\n",
            "11/11 [==============================] - 0s 7ms/step - loss: 0.4549 - accuracy: 0.8480 - val_loss: 0.5022 - val_accuracy: 0.8652\n",
            "Epoch 26/100\n",
            "11/11 [==============================] - 0s 8ms/step - loss: 0.4590 - accuracy: 0.8450 - val_loss: 0.4857 - val_accuracy: 0.8652\n",
            "Epoch 27/100\n",
            "11/11 [==============================] - 0s 7ms/step - loss: 0.4417 - accuracy: 0.8450 - val_loss: 0.4685 - val_accuracy: 0.8582\n",
            "Epoch 28/100\n",
            "11/11 [==============================] - 0s 8ms/step - loss: 0.4234 - accuracy: 0.8511 - val_loss: 0.4593 - val_accuracy: 0.8652\n",
            "Epoch 29/100\n",
            "11/11 [==============================] - 0s 9ms/step - loss: 0.4296 - accuracy: 0.8450 - val_loss: 0.4391 - val_accuracy: 0.8582\n",
            "Epoch 30/100\n",
            "11/11 [==============================] - 0s 7ms/step - loss: 0.4114 - accuracy: 0.8511 - val_loss: 0.4228 - val_accuracy: 0.8511\n",
            "Epoch 31/100\n",
            "11/11 [==============================] - 0s 10ms/step - loss: 0.4531 - accuracy: 0.8541 - val_loss: 0.4863 - val_accuracy: 0.8511\n",
            "Epoch 32/100\n",
            "11/11 [==============================] - 0s 11ms/step - loss: 0.4804 - accuracy: 0.8328 - val_loss: 0.4841 - val_accuracy: 0.8652\n",
            "Epoch 33/100\n",
            "11/11 [==============================] - 0s 11ms/step - loss: 0.4285 - accuracy: 0.8359 - val_loss: 0.4673 - val_accuracy: 0.8582\n",
            "Epoch 34/100\n",
            "11/11 [==============================] - 0s 10ms/step - loss: 0.4406 - accuracy: 0.8480 - val_loss: 0.4569 - val_accuracy: 0.8582\n",
            "Epoch 35/100\n",
            "11/11 [==============================] - 0s 10ms/step - loss: 0.4106 - accuracy: 0.8480 - val_loss: 0.4336 - val_accuracy: 0.8440\n",
            "Epoch 36/100\n",
            "11/11 [==============================] - 0s 10ms/step - loss: 0.4017 - accuracy: 0.8480 - val_loss: 0.4415 - val_accuracy: 0.8652\n",
            "Epoch 37/100\n",
            "11/11 [==============================] - 0s 9ms/step - loss: 0.4003 - accuracy: 0.8511 - val_loss: 0.4415 - val_accuracy: 0.8511\n",
            "Epoch 38/100\n",
            "11/11 [==============================] - 0s 10ms/step - loss: 0.4080 - accuracy: 0.8511 - val_loss: 0.4251 - val_accuracy: 0.8652\n",
            "Epoch 39/100\n",
            "11/11 [==============================] - 0s 10ms/step - loss: 0.4002 - accuracy: 0.8511 - val_loss: 0.5190 - val_accuracy: 0.8369\n",
            "Epoch 40/100\n",
            "11/11 [==============================] - 0s 11ms/step - loss: 0.5285 - accuracy: 0.8450 - val_loss: 0.4266 - val_accuracy: 0.8511\n",
            "Epoch 41/100\n",
            "11/11 [==============================] - 0s 10ms/step - loss: 0.4080 - accuracy: 0.8541 - val_loss: 0.4363 - val_accuracy: 0.8511\n",
            "Epoch 42/100\n",
            "11/11 [==============================] - 0s 9ms/step - loss: 0.4197 - accuracy: 0.8480 - val_loss: 0.4301 - val_accuracy: 0.8652\n",
            "Epoch 43/100\n",
            "11/11 [==============================] - 0s 9ms/step - loss: 0.4039 - accuracy: 0.8511 - val_loss: 0.4385 - val_accuracy: 0.8440\n",
            "Epoch 44/100\n",
            "11/11 [==============================] - 0s 10ms/step - loss: 0.4070 - accuracy: 0.8511 - val_loss: 0.4370 - val_accuracy: 0.8440\n",
            "Epoch 45/100\n",
            "11/11 [==============================] - 0s 10ms/step - loss: 0.4911 - accuracy: 0.8419 - val_loss: 0.5823 - val_accuracy: 0.8652\n",
            "Epoch 46/100\n",
            "11/11 [==============================] - 0s 9ms/step - loss: 0.4779 - accuracy: 0.8085 - val_loss: 0.4887 - val_accuracy: 0.8652\n",
            "Epoch 47/100\n",
            "11/11 [==============================] - 0s 10ms/step - loss: 0.4580 - accuracy: 0.8450 - val_loss: 0.4270 - val_accuracy: 0.8652\n",
            "Epoch 48/100\n",
            "11/11 [==============================] - 0s 10ms/step - loss: 0.4671 - accuracy: 0.8480 - val_loss: 0.5234 - val_accuracy: 0.8511\n",
            "Epoch 49/100\n",
            "11/11 [==============================] - 0s 15ms/step - loss: 0.4498 - accuracy: 0.8511 - val_loss: 0.4411 - val_accuracy: 0.8440\n",
            "Epoch 50/100\n",
            "11/11 [==============================] - 0s 9ms/step - loss: 0.4259 - accuracy: 0.8419 - val_loss: 0.4558 - val_accuracy: 0.8652\n",
            "Epoch 51/100\n",
            "11/11 [==============================] - 0s 10ms/step - loss: 0.4198 - accuracy: 0.8511 - val_loss: 0.4520 - val_accuracy: 0.8652\n",
            "Epoch 52/100\n",
            "11/11 [==============================] - 0s 11ms/step - loss: 0.4304 - accuracy: 0.8419 - val_loss: 0.4279 - val_accuracy: 0.8440\n",
            "Epoch 53/100\n",
            "11/11 [==============================] - 0s 10ms/step - loss: 0.4125 - accuracy: 0.8511 - val_loss: 0.4508 - val_accuracy: 0.8652\n",
            "Epoch 54/100\n",
            "11/11 [==============================] - 0s 10ms/step - loss: 0.4032 - accuracy: 0.8511 - val_loss: 0.4197 - val_accuracy: 0.8582\n",
            "Epoch 55/100\n",
            "11/11 [==============================] - 0s 10ms/step - loss: 0.3995 - accuracy: 0.8511 - val_loss: 0.4704 - val_accuracy: 0.8440\n",
            "Epoch 56/100\n",
            "11/11 [==============================] - 0s 10ms/step - loss: 0.4409 - accuracy: 0.8480 - val_loss: 0.4240 - val_accuracy: 0.8440\n",
            "Epoch 57/100\n",
            "11/11 [==============================] - 0s 10ms/step - loss: 0.4452 - accuracy: 0.8480 - val_loss: 0.5001 - val_accuracy: 0.8652\n",
            "Epoch 58/100\n",
            "11/11 [==============================] - 0s 11ms/step - loss: 0.4263 - accuracy: 0.8511 - val_loss: 0.4409 - val_accuracy: 0.8582\n",
            "Epoch 59/100\n",
            "11/11 [==============================] - 0s 10ms/step - loss: 0.4249 - accuracy: 0.8480 - val_loss: 0.4861 - val_accuracy: 0.8440\n",
            "Epoch 60/100\n",
            "11/11 [==============================] - 0s 10ms/step - loss: 0.4628 - accuracy: 0.8480 - val_loss: 0.4331 - val_accuracy: 0.8440\n",
            "Epoch 61/100\n",
            "11/11 [==============================] - 0s 10ms/step - loss: 0.3962 - accuracy: 0.8480 - val_loss: 0.4819 - val_accuracy: 0.8582\n",
            "Epoch 62/100\n",
            "11/11 [==============================] - 0s 8ms/step - loss: 0.4347 - accuracy: 0.8511 - val_loss: 0.4303 - val_accuracy: 0.8582\n",
            "Epoch 63/100\n",
            "11/11 [==============================] - 0s 7ms/step - loss: 0.4047 - accuracy: 0.8511 - val_loss: 0.4464 - val_accuracy: 0.8440\n",
            "Epoch 64/100\n",
            "11/11 [==============================] - 0s 7ms/step - loss: 0.4141 - accuracy: 0.8541 - val_loss: 0.4590 - val_accuracy: 0.8440\n",
            "Epoch 65/100\n",
            "11/11 [==============================] - 0s 7ms/step - loss: 0.4297 - accuracy: 0.8511 - val_loss: 0.4268 - val_accuracy: 0.8652\n",
            "Epoch 66/100\n",
            "11/11 [==============================] - 0s 8ms/step - loss: 0.4284 - accuracy: 0.8450 - val_loss: 0.4441 - val_accuracy: 0.8652\n",
            "Epoch 67/100\n",
            "11/11 [==============================] - 0s 7ms/step - loss: 0.3967 - accuracy: 0.8541 - val_loss: 0.4377 - val_accuracy: 0.8652\n",
            "Epoch 68/100\n",
            "11/11 [==============================] - 0s 8ms/step - loss: 0.4128 - accuracy: 0.8511 - val_loss: 0.4427 - val_accuracy: 0.8440\n",
            "Epoch 69/100\n",
            "11/11 [==============================] - 0s 9ms/step - loss: 0.3880 - accuracy: 0.8511 - val_loss: 0.4247 - val_accuracy: 0.8511\n",
            "Epoch 70/100\n",
            "11/11 [==============================] - 0s 8ms/step - loss: 0.3957 - accuracy: 0.8541 - val_loss: 0.4372 - val_accuracy: 0.8652\n",
            "Epoch 71/100\n",
            "11/11 [==============================] - 0s 7ms/step - loss: 0.3876 - accuracy: 0.8511 - val_loss: 0.4317 - val_accuracy: 0.8440\n",
            "Epoch 72/100\n",
            "11/11 [==============================] - 0s 8ms/step - loss: 0.3869 - accuracy: 0.8541 - val_loss: 0.4869 - val_accuracy: 0.8369\n",
            "Epoch 73/100\n",
            "11/11 [==============================] - 0s 7ms/step - loss: 0.3912 - accuracy: 0.8511 - val_loss: 0.4579 - val_accuracy: 0.8652\n",
            "Epoch 74/100\n",
            "11/11 [==============================] - 0s 8ms/step - loss: 0.3840 - accuracy: 0.8541 - val_loss: 0.4508 - val_accuracy: 0.8511\n",
            "Epoch 75/100\n",
            "11/11 [==============================] - 0s 9ms/step - loss: 0.3899 - accuracy: 0.8571 - val_loss: 0.4303 - val_accuracy: 0.8511\n",
            "Epoch 76/100\n",
            "11/11 [==============================] - 0s 7ms/step - loss: 0.3859 - accuracy: 0.8541 - val_loss: 0.4510 - val_accuracy: 0.8582\n",
            "Epoch 77/100\n",
            "11/11 [==============================] - 0s 8ms/step - loss: 0.3898 - accuracy: 0.8511 - val_loss: 0.4332 - val_accuracy: 0.8511\n",
            "Epoch 78/100\n",
            "11/11 [==============================] - 0s 8ms/step - loss: 0.3859 - accuracy: 0.8511 - val_loss: 0.4572 - val_accuracy: 0.8440\n",
            "Epoch 79/100\n",
            "11/11 [==============================] - 0s 7ms/step - loss: 0.3901 - accuracy: 0.8541 - val_loss: 0.4463 - val_accuracy: 0.8440\n",
            "Epoch 80/100\n",
            "11/11 [==============================] - 0s 9ms/step - loss: 0.3868 - accuracy: 0.8571 - val_loss: 0.4778 - val_accuracy: 0.8582\n",
            "Epoch 81/100\n",
            "11/11 [==============================] - 0s 8ms/step - loss: 0.3958 - accuracy: 0.8541 - val_loss: 0.4403 - val_accuracy: 0.8440\n",
            "Epoch 82/100\n",
            "11/11 [==============================] - 0s 7ms/step - loss: 0.3900 - accuracy: 0.8571 - val_loss: 0.4739 - val_accuracy: 0.8369\n",
            "Epoch 83/100\n",
            "11/11 [==============================] - 0s 8ms/step - loss: 0.3839 - accuracy: 0.8602 - val_loss: 0.4415 - val_accuracy: 0.8440\n",
            "Epoch 84/100\n",
            "11/11 [==============================] - 0s 7ms/step - loss: 0.3800 - accuracy: 0.8632 - val_loss: 0.4540 - val_accuracy: 0.8652\n",
            "Epoch 85/100\n",
            "11/11 [==============================] - 0s 7ms/step - loss: 0.4200 - accuracy: 0.8480 - val_loss: 0.4772 - val_accuracy: 0.8369\n",
            "Epoch 86/100\n",
            "11/11 [==============================] - 0s 7ms/step - loss: 0.4162 - accuracy: 0.8541 - val_loss: 0.5715 - val_accuracy: 0.8085\n",
            "Epoch 87/100\n",
            "11/11 [==============================] - 0s 7ms/step - loss: 0.4055 - accuracy: 0.8541 - val_loss: 0.4423 - val_accuracy: 0.8582\n",
            "Epoch 88/100\n",
            "11/11 [==============================] - 0s 8ms/step - loss: 0.3914 - accuracy: 0.8480 - val_loss: 0.4666 - val_accuracy: 0.8369\n",
            "Epoch 89/100\n",
            "11/11 [==============================] - 0s 9ms/step - loss: 0.3725 - accuracy: 0.8663 - val_loss: 0.4386 - val_accuracy: 0.8652\n",
            "Epoch 90/100\n",
            "11/11 [==============================] - 0s 8ms/step - loss: 0.3810 - accuracy: 0.8541 - val_loss: 0.4707 - val_accuracy: 0.8440\n",
            "Epoch 91/100\n",
            "11/11 [==============================] - 0s 8ms/step - loss: 0.3853 - accuracy: 0.8602 - val_loss: 0.4743 - val_accuracy: 0.8369\n",
            "Epoch 92/100\n",
            "11/11 [==============================] - 0s 9ms/step - loss: 0.3808 - accuracy: 0.8663 - val_loss: 0.4719 - val_accuracy: 0.8511\n",
            "Epoch 93/100\n",
            "11/11 [==============================] - 0s 7ms/step - loss: 0.4115 - accuracy: 0.8541 - val_loss: 0.4705 - val_accuracy: 0.8298\n",
            "Epoch 94/100\n",
            "11/11 [==============================] - 0s 8ms/step - loss: 0.3885 - accuracy: 0.8602 - val_loss: 0.4568 - val_accuracy: 0.8369\n",
            "Epoch 95/100\n",
            "11/11 [==============================] - 0s 6ms/step - loss: 0.3648 - accuracy: 0.8602 - val_loss: 0.4481 - val_accuracy: 0.8511\n",
            "Epoch 96/100\n",
            "11/11 [==============================] - 0s 7ms/step - loss: 0.3914 - accuracy: 0.8571 - val_loss: 0.4504 - val_accuracy: 0.8440\n",
            "Epoch 97/100\n",
            "11/11 [==============================] - 0s 8ms/step - loss: 0.3874 - accuracy: 0.8541 - val_loss: 0.4610 - val_accuracy: 0.8440\n",
            "Epoch 98/100\n",
            "11/11 [==============================] - 0s 8ms/step - loss: 0.3726 - accuracy: 0.8571 - val_loss: 0.4798 - val_accuracy: 0.8298\n",
            "Epoch 99/100\n",
            "11/11 [==============================] - 0s 10ms/step - loss: 0.3923 - accuracy: 0.8632 - val_loss: 0.4540 - val_accuracy: 0.8511\n",
            "Epoch 100/100\n",
            "11/11 [==============================] - 0s 8ms/step - loss: 0.3795 - accuracy: 0.8602 - val_loss: 0.4549 - val_accuracy: 0.8440\n"
          ]
        },
        {
          "output_type": "execute_result",
          "data": {
            "text/plain": [
              "<keras.callbacks.History at 0x7fcc8c88b2e0>"
            ]
          },
          "metadata": {},
          "execution_count": 24
        }
      ]
    },
    {
      "cell_type": "code",
      "source": [],
      "metadata": {
        "id": "HWMrYovJUvIJ"
      },
      "execution_count": null,
      "outputs": []
    },
    {
      "cell_type": "code",
      "source": [],
      "metadata": {
        "id": "mb6esHI_UvKw"
      },
      "execution_count": null,
      "outputs": []
    },
    {
      "cell_type": "code",
      "source": [],
      "metadata": {
        "id": "56oKVv5_UvbL"
      },
      "execution_count": null,
      "outputs": []
    },
    {
      "cell_type": "code",
      "source": [],
      "metadata": {
        "id": "0j4gNZGKUvd4"
      },
      "execution_count": null,
      "outputs": []
    },
    {
      "cell_type": "code",
      "source": [],
      "metadata": {
        "id": "eOramkgPUvf9"
      },
      "execution_count": null,
      "outputs": []
    },
    {
      "cell_type": "code",
      "source": [],
      "metadata": {
        "id": "Vt0Hrj3rUvij"
      },
      "execution_count": null,
      "outputs": []
    },
    {
      "cell_type": "code",
      "source": [],
      "metadata": {
        "id": "u6RQ8kzoUvk9"
      },
      "execution_count": null,
      "outputs": []
    },
    {
      "cell_type": "code",
      "source": [],
      "metadata": {
        "id": "vLCjvF0nUvnU"
      },
      "execution_count": null,
      "outputs": []
    },
    {
      "cell_type": "code",
      "source": [],
      "metadata": {
        "id": "oB9T--5bUvpj"
      },
      "execution_count": null,
      "outputs": []
    }
  ]
}